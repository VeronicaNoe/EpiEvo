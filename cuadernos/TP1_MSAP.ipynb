{
  "nbformat": 4,
  "nbformat_minor": 0,
  "metadata": {
    "colab": {
      "name": "TP_01.ipynb",
      "provenance": [],
      "collapsed_sections": [
        "s_FD9K6YotdN",
        "gRCVmQz8pTuL",
        "vTzk9JVqcExR",
        "9Lt3F-QhxfDm",
        "nAHXw_UZQAlQ"
      ],
      "toc_visible": true
    },
    "kernelspec": {
      "name": "ir",
      "display_name": "R"
    },
    "language_info": {
      "name": "R"
    }
  },
  "cells": [
    {
      "cell_type": "markdown",
      "metadata": {
        "id": "eTN5ehOBe7ej"
      },
      "source": [
        "# Preparar el espacio de trabajo en Colab"
      ]
    },
    {
      "cell_type": "markdown",
      "metadata": {
        "id": "4hRpwo3oTFUU"
      },
      "source": [
        "##Crear directorios\n",
        "Para trabajar de forma ordenada, se crearán 3 carpetas en colab:\n",
        "- *rawData*: (**input**) \n",
        "en donde estarán los archivos necesarios para trabajar \n",
        "- *results*: en donde se guardarán los archivos generados (**output**)\n",
        "- *plots*: en donde se guardarán los pdf de las figuras (**output**)"
      ]
    },
    {
      "cell_type": "code",
      "metadata": {
        "id": "I53XsY9YVZLG",
        "cellView": "form"
      },
      "source": [
        "#@title Desde el navegador de la derecha, revisar los directorios\n",
        "system(\"mkdir /content/rawData\", TRUE)\n",
        "system(\"mkdir /content/plots\", TRUE)\n",
        "system(\"mkdir /content/results\", TRUE)\n",
        "system(\"rm -r /content/sample_data\", TRUE) # eliminarmos la carpeta que está por default en colab\n",
        "system(\"ls\", TRUE) # listamos los elementos del directorio"
      ],
      "execution_count": null,
      "outputs": []
    },
    {
      "cell_type": "markdown",
      "metadata": {
        "id": "dCrN3qGDf7C3"
      },
      "source": [
        "##Cargar archivos\n",
        "En el directorio *rawData* cargaremos los inputs\n",
        "\n"
      ]
    },
    {
      "cell_type": "code",
      "metadata": {
        "id": "uuicDbmsc5V2",
        "cellView": "form"
      },
      "source": [
        "#@title Descargar archivos en el directorio\n",
        "setwd(\"/content/rawData\") # establecemos el directorio de trabajo\n",
        "system(\"gdown --id 1DaP68_pTodGxY0eIT0B3WEWubbeUj9iL\") # archivo del genemapper\n",
        "system(\"gdown --id 1sqxFlxuOKEkcuQZbGL_URzNLVnMrJzd7\") # funciones\n",
        "system(\"ls\", TRUE) # listamos los elementos del directorio"
      ],
      "execution_count": null,
      "outputs": []
    },
    {
      "cell_type": "markdown",
      "metadata": {
        "id": "s_FD9K6YotdN"
      },
      "source": [
        "# Preparar el espacio de trabajo en R\n",
        "\n",
        "\n"
      ]
    },
    {
      "cell_type": "code",
      "metadata": {
        "id": "jsZFCjkly-4w",
        "cellView": "form"
      },
      "source": [
        "#@title Instalar librerias\n",
        "source(file.path(\"/content/rawData\", \"commonFunctions.R\"))"
      ],
      "execution_count": null,
      "outputs": []
    },
    {
      "cell_type": "code",
      "metadata": {
        "id": "hzXFavcdZrf_",
        "cellView": "form"
      },
      "source": [
        "#@title Establecer el directorio de trabajo\n",
        "setwd(\"/content/results\")\n",
        "getwd()"
      ],
      "execution_count": null,
      "outputs": []
    },
    {
      "cell_type": "markdown",
      "metadata": {
        "id": "J5xI99eby0wx"
      },
      "source": [
        "# Análisis de datos obtenidos por *MSAP*"
      ]
    },
    {
      "cell_type": "markdown",
      "metadata": {
        "id": "N2Puk59x565F"
      },
      "source": [
        "## Análisis exploratorio de los datos"
      ]
    },
    {
      "cell_type": "code",
      "metadata": {
        "id": "L4latF_9JTdI",
        "cellView": "form"
      },
      "source": [
        "#@title Abrir la matriz de datos en R\n",
        "Data <- read.csv(\"/content/rawData/MSAP_Genemapper.csv\", header = TRUE, row.names = 1, check.names = FALSE)\n",
        "numHybrids<-nrow(Data)\n",
        "numLoci<-ncol(Data)\n",
        "cat(\"Número de epiLoci=\", numLoci,\"\\n\")\n",
        "cat(\"Número de muestras=\", numHybrids/2 ,\"\\n\")\n",
        "cat(\"\\n\",\"\\t\\t\\t\\t Vista previa de la tabla:\", \"\\n\")\n",
        "Data[1:5,1:10]"
      ],
      "execution_count": null,
      "outputs": []
    },
    {
      "cell_type": "markdown",
      "metadata": {
        "id": "OOOh5266IAh_"
      },
      "source": [
        "Generar la matriz de patrones comparando *_h* (HpaII) y *_m* (MspaI).\n",
        "\n",
        "<div id=\"image-table\">\n",
        "    <table>\n",
        "      <tr>\n",
        "          <td style=\"padding:10px\">\n",
        "              <img src=\"https://raw.githubusercontent.com/VeronicaNoe/EpiEvo/main/TP_01_A.png\" width=\"400\"/>\n",
        "            <td style=\"padding:10px\">\n",
        "            </td>\n",
        "        </tr>\n",
        "    </table>\n",
        "</div> "
      ]
    },
    {
      "cell_type": "code",
      "metadata": {
        "id": "2qgBr60mK03i",
        "cellView": "form"
      },
      "source": [
        "#@title\n",
        "MSAP_patterns<- matrix(nrow = dim(Data)[2], ncol = 0)\n",
        "out<- c()\n",
        "for (hyb in 1:numHybrids) if (hyb %% 2 ==1){\n",
        "  for (loci in 1:numLoci){\n",
        "    out<- append(out, ifelse(Data[hyb,loci]+Data[hyb+1,loci]==0,'0', # en este caso, suma los valores de las fila j y j+1 en la fila i\n",
        "                      # si el test es falso, continua con la siguiente línea que es otro test\n",
        "                      ifelse(Data[hyb,loci]+Data[hyb+1,loci]==2,'1',\n",
        "                      # si el test es falso, termina con el 3\n",
        "                      ifelse(Data[hyb,loci]+Data[hyb+1,loci]==1,'2','3'))))\n",
        "  }\n",
        "  MSAP_patterns<-cbind(MSAP_patterns,matrix(out,dimnames = list(colnames(Data),substr(row.names(Data)[hyb],1,nchar(as.character(row.names(Data)[hyb]))-2))))\n",
        "  out<- c()\n",
        "}\n",
        "cat(\"Número de epiLoci=\", nrow(MSAP_patterns),\"\\n\")\n",
        "cat(\"Número de muestras=\", ncol(MSAP_patterns),\"\\n\")\n",
        "cat(\"\\n\",\"\\t\\t\\t\\t Vista previa de la tabla:\", \"\\n\")\n",
        "MSAP_patterns[1:5,]\n",
        "#guardamos\n",
        "write.csv(t(MSAP_patterns), file = \"/content/results/MSAP_patterns.csv\")"
      ],
      "execution_count": null,
      "outputs": []
    },
    {
      "cell_type": "markdown",
      "metadata": {
        "id": "gRCVmQz8pTuL"
      },
      "source": [
        "## Selección de alelos polimórficos\n",
        "Solo los alelos polimorficos brindan información.\n",
        "\n",
        "Descartaremos alelos que sean:\n",
        "- **Singletons**: aquellos que están presentes en una sola muestra.\n",
        "- **Monomorficos**: aquellos que están presentes en todas las muestras."
      ]
    },
    {
      "cell_type": "markdown",
      "metadata": {
        "id": "dh1aEnxsJOYr"
      },
      "source": [
        "<div id=\"image-table\">\n",
        "    <table>\n",
        "      <tr>\n",
        "          <td style=\"padding:10px\">\n",
        "              <img src=\"https://raw.githubusercontent.com/VeronicaNoe/EpiEvo/main/TP_01_B.png\" width=\"400\"/>\n",
        "            <td style=\"padding:10px\">\n",
        "              <img src=\"https://raw.githubusercontent.com/VeronicaNoe/EpiEvo/main/TP_01_C.png\" width=\"400\"/>\n",
        "            </td>\n",
        "        </tr>\n",
        "    </table>\n",
        "</div> "
      ]
    },
    {
      "cell_type": "code",
      "metadata": {
        "id": "_oozxHm0MJL0",
        "cellView": "form"
      },
      "source": [
        "#@title Generamos las variables dummy para cada patrón.\n",
        "dummies<- matrix(nrow = ncol(MSAP_patterns), ncol = 0)\n",
        "\n",
        "for (loci in 1:numLoci){\n",
        "  dummies <- cbind(dummies,\n",
        "          matrix(as.numeric(MSAP_patterns[loci,] == 1), dimnames = list(colnames(MSAP_patterns), paste(row.names(MSAP_patterns)[loci],\"1\",sep = \"_\"))),\n",
        "          matrix(as.numeric(MSAP_patterns[loci,] == 2), dimnames = list(colnames(MSAP_patterns), paste(row.names(MSAP_patterns)[loci],\"2\",sep = \"_\"))),\n",
        "          matrix(as.numeric(MSAP_patterns[loci,] == 3), dimnames = list(colnames(MSAP_patterns), paste(row.names(MSAP_patterns)[loci],\"3\",sep = \"_\"))))\n",
        "}"
      ],
      "execution_count": null,
      "outputs": []
    },
    {
      "cell_type": "code",
      "metadata": {
        "id": "Y31JH8w1pKtH",
        "cellView": "form"
      },
      "source": [
        "#@title Filtrado y selección de polimórficos\n",
        "# Por cada alelo, vamos a sumar el número de muestras que presentan el alelo.\n",
        "temp<-data.frame(colSums(dummies, dims=1))\n",
        "colnames(temp)<-c(\"count\")\n",
        "# Definimos las variables\n",
        "singletons<-1\n",
        "monomorphic<-nrow(dummies)\n",
        "toKeep<-subset(temp, c(count>singletons & count<monomorphic))\n",
        "toKeep<-rownames(toKeep) #alelos polimorficos\n",
        "#seleccionamos solo polimorficos de la matriz dummies\n",
        "binary_matrix<-dummies[,toKeep]\n",
        "cat(\"Número de alelos monomorficos =\", sum(temp$count==nrow(dummies)), \"\\n\")\n",
        "cat(\"Número de alelo singletons =\", sum(temp$count==1), \"\\n\")\n",
        "#cat(\"Número de alelo nulo =\", sum(temp$count<1), \"\\n\")\n",
        "cat(\"Número de alelo polimorficos =\", dim(binary_matrix)[2], \"\\n\")\n",
        "cat(\"Número de alelo totales =\", sum(temp$count>=1), \"\\n\")\n",
        "cat(\"Número de muestras =\", nrow(binary_matrix), \"\\n\")\n",
        "cat(\"\\n\",\"\\t\\t\\t\\t Vista previa de la tabla:\", \"\\n\")\n",
        "binary_matrix[1:5,1:5]\n",
        "# Guardamos la matriz binaria\n",
        "write.csv(binary_matrix, file = \"/content/results/MSAP_binary_matrix.csv\")"
      ],
      "execution_count": null,
      "outputs": []
    },
    {
      "cell_type": "markdown",
      "metadata": {
        "id": "vTzk9JVqcExR"
      },
      "source": [
        "## Metilación global"
      ]
    },
    {
      "cell_type": "code",
      "metadata": {
        "id": "gLkd3XTFQvG0",
        "cellView": "form"
      },
      "source": [
        "#@title Conteo de alelos metilados y no metilados\n",
        "conteoPatrones<-f.count.methylation(binary_matrix)\n",
        "head(conteoPatrones)\n",
        "write.csv(conteoPatrones, file = \"patrones.csv\")\n",
        "# Calculamos valores medios para cada categoría\n",
        "summaryPatrones<-f.summary.patrones(conteoPatrones)\n",
        "write.csv(summaryPatrones, file = \"summary_Patrones.csv\")"
      ],
      "execution_count": null,
      "outputs": []
    },
    {
      "cell_type": "code",
      "metadata": {
        "id": "17QsgRmeHGwc",
        "cellView": "form"
      },
      "source": [
        "#@title Gráfico\n",
        "ggplot(summaryPatrones,aes(x=variable,y=mean, fill=samples))+ geom_bar(stat=\"identity\", position=position_dodge()) +\n",
        "geom_errorbar(aes(ymin=mean-sd, ymax=mean+sd), width=.2, position=position_dodge(.9)) +\n",
        "scale_fill_manual(values=c('aquamarine3', 'coral1', 'plum4', 'plum2')) +\n",
        "labs(title=\"\", x=\"\", y = \"Proporción de epialelos\")+ theme(axis.text=element_text(size=14),\n",
        "        axis.title=element_text(size=14,face=\"bold\"))\n",
        "\n",
        "pdf(\"/content/plots/methylation.pdf\")\n",
        "ggplot(summaryPatrones,aes(x=variable,y=mean, fill=samples))+ geom_bar(stat=\"identity\", position=position_dodge()) +\n",
        "geom_errorbar(aes(ymin=mean-sd, ymax=mean+sd), width=.2, position=position_dodge(.9)) +\n",
        "scale_fill_manual(values=c('aquamarine3', 'coral1', 'plum4', 'plum2')) +\n",
        "labs(title=\"\", x=\"\", y = \"Proporción de epialelos\")+ theme(axis.text=element_text(size=14),\n",
        "        axis.title=element_text(size=14,face=\"bold\"))\n",
        "dev.off()"
      ],
      "execution_count": null,
      "outputs": []
    },
    {
      "cell_type": "markdown",
      "metadata": {
        "id": "9Lt3F-QhxfDm"
      },
      "source": [
        "## Comparación de híbridos\n",
        "Vamos a comparar los hibridos sintéticos con los parentales (S. kurtzianum y S. microdontum) y los híbridos naturales (S. x rechei).\n",
        "\n",
        "Queremos saber cuántos alelos comparte con cada uno."
      ]
    },
    {
      "cell_type": "code",
      "metadata": {
        "id": "BzGAuxYzOBOa",
        "cellView": "form"
      },
      "source": [
        "#@title Alelos comunes y únicos en el híbrido sintético\n",
        "numAlleles<-ncol(binary_matrix) # Number of alleles\n",
        "natHyb<-grep(\"Rechei\", rownames(binary_matrix), value = TRUE) # S. x rechei (Natural hybrid)\n",
        "synHyb<-grep(\"Hybrid\", rownames(binary_matrix), value = TRUE) # Synthetic hybrids\n",
        "\n",
        "out<- c()\n",
        "results<- matrix(nrow = 4, ncol = 0)\n",
        "\n",
        "## This is a double loop for hyb hybrids and allele loci. Rows are as follows: 1-5 Hybrids, 6 S. kurtzianum (Parental1),\n",
        "## 7 S. microdontum (Parental2), 8-15 .\n",
        "for (hyb in synHyb){\n",
        "  for (allele in 1:numAlleles)\n",
        "  {\n",
        "    out<- append(out, ifelse(binary_matrix[hyb,allele]>0 & binary_matrix['Kurtzianum',allele]>0 & binary_matrix['Microdontum',allele]==0 & sum(binary_matrix[natHyb,allele])==0,'A',\n",
        "                      ifelse(binary_matrix[hyb,allele]>0 & binary_matrix['Kurtzianum',allele]==0 & binary_matrix['Microdontum',allele]>0 & sum(binary_matrix[natHyb,allele])==0,'B',\n",
        "                      ifelse(binary_matrix[hyb,allele]>0 & binary_matrix['Kurtzianum',allele]==0 & binary_matrix['Microdontum',allele]==0 & sum(binary_matrix[natHyb,allele])>0,'C',\n",
        "                      ifelse(binary_matrix[hyb,allele]>0 & binary_matrix['Kurtzianum',allele]==0 & binary_matrix['Microdontum',allele]==0 & sum(binary_matrix[natHyb,allele])==0,'D','E')))))\n",
        "   }                         \n",
        "  \n",
        "  results<-cbind(results,matrix(table(out, exclude = \"E\"),dimnames = list(c(\"Kurtzianum\",\"Microdontum\",\"Rechei\",\"Unique\"),hyb)))\n",
        "  #results<-cbind(results,matrix(table(out, exclude = \"E\"),dimnames = list(c(\"Kurtzianum\",\"Microdontum\",\"Rechei\",\"Hybrid\"),hyb)))\n",
        "  out<- c()\n",
        "}  \n",
        "\n",
        "## Transform counts by hybrid into percentages \n",
        "percentages<-t(results)/colSums(results)*100\n",
        "head(percentages)\n",
        "## Save output to working directory\n",
        "write.csv(percentages, file = \"/content/results/MSAP_Hybrids.csv\")"
      ],
      "execution_count": null,
      "outputs": []
    },
    {
      "cell_type": "code",
      "metadata": {
        "id": "4kvhg_dlDhMT",
        "cellView": "form"
      },
      "source": [
        "#@title Cálculo de valores medios\n",
        "percentagesToPlot<-melt(percentages)\n",
        "colnames(percentagesToPlot)<-c(\"Hybrids\",\"Especies\",\"value\")\n",
        "summaryComparacion<-ddply(percentagesToPlot, c(\"Especies\"), summarise,\n",
        "               mean = mean(value),\n",
        "               sd = sd(value))\n",
        "write.csv(summaryComparacion, file = \"ComparacionHibridos.csv\")\n",
        "summaryComparacion"
      ],
      "execution_count": null,
      "outputs": []
    },
    {
      "cell_type": "code",
      "metadata": {
        "id": "I4DZNrBZz1MG",
        "cellView": "form"
      },
      "source": [
        "#@title Gráfico\n",
        "ggplot(summaryComparacion,aes(x=Especies,y=mean, fill=Especies))+ geom_bar(stat=\"identity\", position=position_dodge(), show.legend = F) +\n",
        "geom_errorbar(aes(ymin=mean-sd, ymax=mean+sd), width=.2, position=position_dodge(.9)) +\n",
        "scale_fill_manual(values=c('aquamarine3', 'coral1', 'plum4', 'plum2')) +\n",
        "labs(title=\"\", x=\"\", y = \"Epi-alelos compartidos \\n (%)\")+ theme(axis.text=element_text(size=14),\n",
        "        axis.title=element_text(size=14,face=\"bold\"))\n",
        "pdf(\"/content/plots/comparaciónHibridos.pdf\")\n",
        "ggplot(summaryComparacion,aes(x=Especies,y=mean, fill=Especies))+ geom_bar(stat=\"identity\", position=position_dodge(), show.legend = F) +\n",
        "geom_errorbar(aes(ymin=mean-sd, ymax=mean+sd), width=.2, position=position_dodge(.9)) +\n",
        "scale_fill_manual(values=c('aquamarine3', 'coral1', 'plum4', 'plum2')) +\n",
        "labs(title=\"\", x=\"\", y = \"Epi-alelos compartidos \\n (%)\")+ theme(axis.text=element_text(size=14),\n",
        "        axis.title=element_text(size=14,face=\"bold\"))\n",
        "dev.off()"
      ],
      "execution_count": null,
      "outputs": []
    },
    {
      "cell_type": "markdown",
      "metadata": {
        "id": "nAHXw_UZQAlQ"
      },
      "source": [
        "# Guardar en Drive\n",
        "\n",
        "\n",
        "\n",
        "\n",
        "\n"
      ]
    },
    {
      "cell_type": "markdown",
      "metadata": {
        "id": "HMbMbSemTIVA"
      },
      "source": [
        "Se necesita establecer conexión con Drive para obtener el material de trabajo.\n",
        "Para ello, se utilizará el paquete *googledrive*. "
      ]
    },
    {
      "cell_type": "code",
      "metadata": {
        "id": "dkM9IG0Ks2rh",
        "cellView": "form"
      },
      "source": [
        "#@title Instalar, cargar y configurar el paquete\n",
        "install.packages(c(\"googledrive\",\"R.utils\",\"httr\"))\n",
        "\n",
        "#@title Carga los paquetes\n",
        "suppressPackageStartupMessages({\n",
        "  library(\"googledrive\")\n",
        "  library(\"R.utils\")\n",
        "  library(\"httr\")\n",
        "})\n",
        "\n",
        "#@title Autentificar usuario\n",
        "my_check <- function() {return(TRUE)}\n",
        "reassignInPackage(\"is_interactive\", pkgName = \"httr\", my_check) \n",
        "options(rlang_interactive=TRUE)"
      ],
      "execution_count": null,
      "outputs": []
    },
    {
      "cell_type": "markdown",
      "metadata": {
        "id": "6s9yi7EQFX3h"
      },
      "source": [
        "En el siguiente paso, se debe verificar el usuario.\n",
        "\n",
        "El siguiente código, va a generar dos cosas:\n",
        "- 1º: Un link para darle acceso al paquete a nuestra cuenta de Drive. Una vez completado los permisos, va a generar un link que hay que **copiar**\n",
        "- 2º: Un cuadro de texto con el código de autorización: **pegar** el link del primer paso."
      ]
    },
    {
      "cell_type": "code",
      "metadata": {
        "id": "zdazgYp1QAlU",
        "cellView": "form"
      },
      "source": [
        "#@title Otorgar permisos\n",
        "drive_auth(use_oob = TRUE, cache = TRUE)"
      ],
      "execution_count": null,
      "outputs": []
    },
    {
      "cell_type": "markdown",
      "metadata": {
        "id": "h-k8xn92tFmt"
      },
      "source": [
        "Una vez que estamos autorizados a editar Drive, vamos a guardar todos los arhivos que están en colab."
      ]
    },
    {
      "cell_type": "code",
      "metadata": {
        "id": "okG5jlLOtFGz",
        "cellView": "form"
      },
      "source": [
        "#@title Guardar archivos en el Drive personal\n",
        "folder2save<-dir('/content', full.names = TRUE)\n",
        "file2save<-c()\n",
        "for (f in folder2save){\n",
        "  file2save<-dir(f, full.names=TRUE)\n",
        "  for(i in file2save){\n",
        "    data1 <- drive_upload(i,\"~/EpiEvo/01_TP/\", overwrite = TRUE) #descarga a cada carpeta personal\n",
        "  }\n",
        "}\n"
      ],
      "execution_count": null,
      "outputs": []
    }
  ]
}
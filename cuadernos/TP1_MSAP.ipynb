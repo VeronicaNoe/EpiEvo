{
  "nbformat": 4,
  "nbformat_minor": 0,
  "metadata": {
    "colab": {
      "name": "TP1_MSAP.ipynb",
      "provenance": [],
      "collapsed_sections": [
        "uPsMyxoeMVSc",
        "PNjvvq5D41b2",
        "J5xI99eby0wx",
        "f6NiLry4M5pB",
        "N2Puk59x565F",
        "eLI-ZhYGM_qu",
        "zkl6BqdFTgSV",
        "yy8M6Pk1Tmqe",
        "vTzk9JVqcExR",
        "FnwkBHK7NHTO",
        "nAHXw_UZQAlQ"
      ],
      "toc_visible": true
    },
    "kernelspec": {
      "name": "python3",
      "display_name": "Python 3"
    },
    "language_info": {
      "name": "python"
    }
  },
  "cells": [
    {
      "cell_type": "markdown",
      "metadata": {
        "id": "-qu6hz1A2W6a"
      },
      "source": [
        "# TP1: Análisis de datos MSAP (_**M**ethylation-**S**ensitive **A**mplified **P**olymorphism_)\n",
        "\n",
        "> **Nota**: Este cuaderno asume que el [TP0](https://colab.research.google.com/github/VeronicaNoe/EpiEvo/blob/main/cuadernos/TP0_espacio_de_trabajo.ipynb) ha sido completado con éxito.\n"
      ]
    },
    {
      "cell_type": "markdown",
      "metadata": {
        "id": "uPsMyxoeMVSc"
      },
      "source": [
        "## Contenido"
      ]
    },
    {
      "cell_type": "markdown",
      "metadata": {
        "id": "qfvuOsb_37PU"
      },
      "source": [
        "**Objetivo:** Familiarizarse con la identificación de fragmentos diferencialmente metilados utilizando datos MSAP de especies silvestres de papa ([Cara et al., 2019](https://nph.onlinelibrary.wiley.com/doi/full/10.1111/nph.15706)).\n",
        "\n",
        "\n",
        "\n",
        "0.   [Preparación de cuaderno](#step-0)\n",
        "1.   [Análisis de datos obtenidos por *MSAP*](#step-2)\n",
        "  1.   [Introducción](#step-2.1)\n",
        "  2.   [Análisis exploratorio de los datos](#step-2.2)\n",
        "  3.   [Selección de alelos polimórficos](#step-2.3)\n",
        "  4.   [Metilación global](#step-2.4)\n",
        "  5.   [Comparación entre híbridos](#step-2.5)\n",
        "2.   [OPCIONAL: Guardar en Drive](#step-3)\n",
        "\n"
      ]
    },
    {
      "cell_type": "markdown",
      "metadata": {
        "id": "PNjvvq5D41b2"
      },
      "source": [
        "<a name=\"step-0\"></a>\n",
        "## Paso 0. Preparación del espacio de trabajo\n"
      ]
    },
    {
      "cell_type": "code",
      "metadata": {
        "id": "ZopBTq1JxG0q",
        "colab": {
          "base_uri": "https://localhost:8080/"
        },
        "cellView": "form",
        "outputId": "ce1b2f45-3175-40bc-b0ec-dfdf5ef001ac"
      },
      "source": [
        "#@title Solicitar acceso a Google Drive\n",
        "from google.colab import drive\n",
        "drive.mount('/content/drive')"
      ],
      "execution_count": null,
      "outputs": [
        {
          "output_type": "stream",
          "name": "stdout",
          "text": [
            "Mounted at /content/drive\n"
          ]
        }
      ]
    },
    {
      "cell_type": "code",
      "metadata": {
        "colab": {
          "base_uri": "https://localhost:8080/"
        },
        "id": "1LPCOB5G41b3",
        "cellView": "form",
        "outputId": "aea32977-3b53-4317-8f4a-7747f051a54b"
      },
      "source": [
        "#@title Preparar datos\n",
        "%%bash\n",
        "rm -r sample_data/ # eliminarmos la carpeta que está por default en colab\n",
        "\n",
        "# Para trabajar de forma ordenada, se crearán 3 carpetas en colab:\n",
        "# - *rawData*: en donde estarán los archivos necesarios para trabajar (**input**)\n",
        "# - *results*: en donde se guardarán los archivos generados (**output**)\n",
        "# - *plots*: en donde se guardarán los pdf de las figuras (**output**)\n",
        "mkdir {rawData,plots,results}\n",
        "\n",
        "# En el directorio *rawData* cargaremos los inputs\n",
        "cp -r /content/drive/MyDrive/EpiEvo/epievo_data/1/* /content/rawData\n",
        "ls rawData"
      ],
      "execution_count": null,
      "outputs": [
        {
          "output_type": "stream",
          "name": "stdout",
          "text": [
            "commonFunctions.R\n",
            "MSAP_Genemapper.csv\n"
          ]
        }
      ]
    },
    {
      "cell_type": "code",
      "metadata": {
        "id": "jsZFCjkly-4w",
        "cellView": "form"
      },
      "source": [
        "#@title Cargar R\n",
        "%load_ext rpy2.ipython"
      ],
      "execution_count": null,
      "outputs": []
    },
    {
      "cell_type": "code",
      "metadata": {
        "id": "e5RVBZXx4cRp",
        "colab": {
          "base_uri": "https://localhost:8080/"
        },
        "cellView": "form",
        "outputId": "21994a48-b9bd-4eb2-dee9-3b29252a1a1d"
      },
      "source": [
        "#@title Instalar librerias\n",
        "#@markdown **Nota**: La ejecución de esta celda puede tomar aproximadamente un minuto.\n",
        "%%R\n",
        "source(file.path(\"/content/rawData\", \"commonFunctions.R\"))"
      ],
      "execution_count": null,
      "outputs": [
        {
          "output_type": "stream",
          "name": "stderr",
          "text": [
            "R[write to console]: \n",
            "Attaching package: ‘plyr’\n",
            "\n",
            "\n",
            "R[write to console]: The following objects are masked from ‘package:reshape’:\n",
            "\n",
            "    rename, round_any\n",
            "\n",
            "\n"
          ]
        }
      ]
    },
    {
      "cell_type": "code",
      "metadata": {
        "id": "hzXFavcdZrf_",
        "colab": {
          "base_uri": "https://localhost:8080/"
        },
        "cellView": "form",
        "outputId": "969ab309-be5b-4776-8114-b2b9bc6fab9c"
      },
      "source": [
        "#@title Establecer el directorio de trabajo\n",
        "%%R\n",
        "setwd(\"/content/results\")\n",
        "getwd()"
      ],
      "execution_count": null,
      "outputs": [
        {
          "output_type": "stream",
          "name": "stdout",
          "text": [
            "[1] \"/content/results\"\n"
          ]
        }
      ]
    },
    {
      "cell_type": "markdown",
      "metadata": {
        "id": "J5xI99eby0wx"
      },
      "source": [
        "<a name=\"step-2\"></a>\n",
        "## Paso 1. Análisis de datos obtenidos por *MSAP*"
      ]
    },
    {
      "cell_type": "markdown",
      "metadata": {
        "id": "f6NiLry4M5pB"
      },
      "source": [
        "<a name=\"step-2.1\"></a>\n",
        "### Introducción"
      ]
    },
    {
      "cell_type": "markdown",
      "metadata": {
        "id": "7S0v_ijt69oe"
      },
      "source": [
        "* Analizaremos la metilación del ADN en el híbrido natural *Solanum x rechei* y en las especies parentales *Solanum kurtzianum* y *Solanum microdontum*\n",
        "\n",
        "* Luego la compararemos con la metilación del ADN en los híbridos sintéticos obtenidos por cruzamientos controlados.\n",
        "\n",
        "<p align=\"center\">\n",
        "<img src=\"https://raw.githubusercontent.com/VeronicaNoe/EpiEvo/main/img/1/figura.png\" width=\"800\"/> \n",
        "</p>\n",
        "\n",
        "\n"
      ]
    },
    {
      "cell_type": "markdown",
      "metadata": {
        "id": "N2Puk59x565F"
      },
      "source": [
        "<a name=\"step-2.2\"></a>\n",
        "### Análisis exploratorio de los datos"
      ]
    },
    {
      "cell_type": "code",
      "metadata": {
        "id": "L4latF_9JTdI",
        "colab": {
          "base_uri": "https://localhost:8080/"
        },
        "cellView": "form",
        "outputId": "3974749b-5cc6-4ea3-b320-da222e345e34"
      },
      "source": [
        "#@title Abrir la matriz de datos en R\n",
        "%%R\n",
        "Data <- read.csv(\"/content/rawData/MSAP_Genemapper.csv\", header = TRUE, row.names = 1, check.names = FALSE)\n",
        "numSamples<-nrow(Data)\n",
        "numLoci<-ncol(Data)\n",
        "\n",
        "#Vista previa de los datos\n",
        "cat(\"Número de epiLoci=\", numLoci,\"\\n\")\n",
        "cat(\"Número de muestras=\", numSamples/2 ,\"\\n\")\n",
        "cat(\"\\n\",\"\\t\\t\\t\\t Vista previa de la tabla:\", \"\\n\")\n",
        "Data[,1:5]"
      ],
      "execution_count": null,
      "outputs": [
        {
          "output_type": "stream",
          "name": "stdout",
          "text": [
            "Número de epiLoci= 264 \n",
            "Número de muestras= 15 \n",
            "\n",
            " \t\t\t\t Vista previa de la tabla: \n",
            "              1Allele 001 1Allele 002 1Allele 003 1Allele 004 1Allele 017\n",
            "Hybrid_1_h              1           1           0           0           0\n",
            "Hybrid_1_m              1           1           0           1           0\n",
            "Hybrid_2_h              1           0           0           0           0\n",
            "Hybrid_2_m              1           1           0           1           0\n",
            "Hybrid_3_h              1           1           0           0           0\n",
            "Hybrid_3_m              1           1           0           1           0\n",
            "Hybrid_4_h              1           1           0           0           0\n",
            "Hybrid_4_m              1           1           0           0           0\n",
            "Hybrid_5_h              1           1           0           0           0\n",
            "Hybrid_5_m              1           1           0           1           0\n",
            "Kurtzianum_h            1           1           0           0           0\n",
            "Kurtzianum_m            1           1           0           1           0\n",
            "Microdontum_h           1           0           0           0           0\n",
            "Microdontum_m           1           0           0           1           0\n",
            "Rechei_1_h              1           0           0           0           0\n",
            "Rechei_1_m              1           0           1           1           0\n",
            "Rechei_2_h              0           0           1           1           0\n",
            "Rechei_2_m              1           0           1           1           0\n",
            "Rechei_3_h              1           0           0           1           0\n",
            "Rechei_3_m              1           0           1           1           0\n",
            "Rechei_4_h              1           0           1           1           0\n",
            "Rechei_4_m              1           0           1           1           0\n",
            "Rechei_5_h              1           0           0           1           0\n",
            "Rechei_5_m              1           0           0           1           0\n",
            "Rechei_6_h              0           0           0           0           0\n",
            "Rechei_6_m              1           0           1           1           0\n",
            "Rechei_7_h              1           0           0           0           0\n",
            "Rechei_7_m              1           0           1           1           0\n",
            "Rechei_8_h              0           0           1           1           0\n",
            "Rechei_8_m              1           0           0           1           0\n"
          ]
        }
      ]
    },
    {
      "cell_type": "markdown",
      "metadata": {
        "id": "OOOh5266IAh_"
      },
      "source": [
        "Generamos la matriz de patrones de metilación (metilado o no metilado) comparando los patrones de amplificación en *_h* (HpaII/EcoRI) y *_m* (MspI/EcoRI).\n",
        "\n",
        "<div id=\"image-table\">\n",
        "    <table>\n",
        "      <tr>\n",
        "          <td style=\"padding:10px\">\n",
        "              <img src=\"https://raw.githubusercontent.com/VeronicaNoe/EpiEvo/main/img/1/TP_01_A.png\" width=\"500\"/>\n",
        "            <td style=\"padding:10px\">\n",
        "            </td>\n",
        "        </tr>\n",
        "    </table>\n",
        "</div> "
      ]
    },
    {
      "cell_type": "code",
      "metadata": {
        "id": "2qgBr60mK03i",
        "colab": {
          "base_uri": "https://localhost:8080/"
        },
        "cellView": "form",
        "outputId": "7f67f5e9-80ed-496a-beb6-1593f62a2a14"
      },
      "source": [
        "#@title Generar la matriz de patrones de metilación\n",
        "%%R\n",
        "MSAP_patterns<- matrix(nrow = dim(Data)[2], ncol = 0)\n",
        "out<- c()\n",
        "for (sample in 1:numSamples) if (sample %% 2 ==1){\n",
        "  for (locus in 1:numLoci){\n",
        "    out<- append(out, ifelse(Data[sample,locus]+Data[sample+1,locus]==0,'0', # en este caso, suma los valores de las fila sample y sample+1 en la columna loci\n",
        "                      # si el test es falso, continua con la siguiente línea que es otro test\n",
        "                      ifelse(Data[sample,locus]+Data[sample+1,locus]==2,'1',\n",
        "                      # si el test es falso, termina con el 3\n",
        "                      ifelse(Data[sample,locus]==1,'2','3'))))\n",
        "  }\n",
        "  MSAP_patterns<-cbind(MSAP_patterns,matrix(out,dimnames = list(colnames(Data),substr(row.names(Data)[sample],1,nchar(as.character(row.names(Data)[sample]))-2))))\n",
        "  out<- c()\n",
        "}\n",
        "\n",
        "#Guardamos la matriz de patrones\n",
        "write.csv(t(MSAP_patterns), file = \"/content/results/MSAP_patterns.csv\")\n",
        "\n",
        "#Vista previa de los datos\n",
        "cat(\"Número de epiLoci=\", nrow(MSAP_patterns),\"\\n\")\n",
        "cat(\"Número de muestras=\", ncol(MSAP_patterns),\"\\n\")\n",
        "cat(\"\\n\",\"\\t\\t\\t\\t Vista previa de la matriz de patrones:\", \"\\n\")\n",
        "MSAP_patterns[1:10,1:7]"
      ],
      "execution_count": null,
      "outputs": [
        {
          "output_type": "stream",
          "name": "stdout",
          "text": [
            "Número de epiLoci= 264 \n",
            "Número de muestras= 15 \n",
            "\n",
            " \t\t\t\t Vista previa de la matriz de patrones: \n",
            "            Hybrid_1 Hybrid_2 Hybrid_3 Hybrid_4 Hybrid_5 Kurtzianum Microdontum\n",
            "1Allele 001 \"1\"      \"1\"      \"1\"      \"1\"      \"1\"      \"1\"        \"1\"        \n",
            "1Allele 002 \"1\"      \"3\"      \"1\"      \"1\"      \"1\"      \"1\"        \"0\"        \n",
            "1Allele 003 \"0\"      \"0\"      \"0\"      \"0\"      \"0\"      \"0\"        \"0\"        \n",
            "1Allele 004 \"3\"      \"3\"      \"3\"      \"0\"      \"3\"      \"3\"        \"3\"        \n",
            "1Allele 017 \"0\"      \"0\"      \"0\"      \"0\"      \"0\"      \"0\"        \"0\"        \n",
            "1Allele 029 \"0\"      \"0\"      \"0\"      \"0\"      \"0\"      \"0\"        \"0\"        \n",
            "1Allele 030 \"0\"      \"1\"      \"2\"      \"2\"      \"2\"      \"2\"        \"2\"        \n",
            "1Allele 035 \"3\"      \"3\"      \"3\"      \"3\"      \"3\"      \"0\"        \"3\"        \n",
            "1Allele 041 \"0\"      \"0\"      \"0\"      \"0\"      \"0\"      \"0\"        \"0\"        \n",
            "1Allele 042 \"0\"      \"0\"      \"0\"      \"0\"      \"0\"      \"0\"        \"0\"        \n"
          ]
        }
      ]
    },
    {
      "cell_type": "markdown",
      "metadata": {
        "id": "eLI-ZhYGM_qu"
      },
      "source": [
        "<a name=\"step-2.3\"></a>\n",
        "### Selección de alelos polimórficos\n"
      ]
    },
    {
      "cell_type": "markdown",
      "metadata": {
        "id": "zkl6BqdFTgSV"
      },
      "source": [
        "#### Generar variables dummies\n"
      ]
    },
    {
      "cell_type": "markdown",
      "metadata": {
        "id": "gRCVmQz8pTuL"
      },
      "source": [
        "* Para cada locus, una variable dummy es generada para representar el patrón de metilación.\n",
        "\n",
        "* Una variable dummy es binaria: 0 ó 1 para indicar la ausencia o presencia de un patrón de metilación específico.\n",
        "\n",
        "<p align=\"left\">\n",
        "<img src=\"https://raw.githubusercontent.com/VeronicaNoe/EpiEvo/main/img/1/Figura_dummies.png\" width=\"500\"/> \n",
        "</p>\n",
        "\n"
      ]
    },
    {
      "cell_type": "code",
      "metadata": {
        "id": "_oozxHm0MJL0",
        "colab": {
          "base_uri": "https://localhost:8080/"
        },
        "cellView": "form",
        "outputId": "80a249be-e682-4cbe-b2a0-b85e4e4ec2a0"
      },
      "source": [
        "#@title Generar variable dummy para cada patrón\n",
        "%%R\n",
        "dummies<- matrix(nrow = ncol(MSAP_patterns), ncol = 0)\n",
        "\n",
        "for (locus in 1:numLoci){\n",
        "  dummies <- cbind(dummies,\n",
        "          matrix(as.numeric(MSAP_patterns[locus,] == 1), dimnames = list(colnames(MSAP_patterns), paste(row.names(MSAP_patterns)[locus],\"1\",sep = \"_\"))),\n",
        "          matrix(as.numeric(MSAP_patterns[locus,] == 2), dimnames = list(colnames(MSAP_patterns), paste(row.names(MSAP_patterns)[locus],\"2\",sep = \"_\"))),\n",
        "          matrix(as.numeric(MSAP_patterns[locus,] == 3), dimnames = list(colnames(MSAP_patterns), paste(row.names(MSAP_patterns)[locus],\"3\",sep = \"_\"))))\n",
        "}\n",
        "dummies[1:5,1:10]"
      ],
      "execution_count": null,
      "outputs": [
        {
          "output_type": "stream",
          "name": "stdout",
          "text": [
            "         1Allele 001_1 1Allele 001_2 1Allele 001_3 1Allele 002_1 1Allele 002_2\n",
            "Hybrid_1             1             0             0             1             0\n",
            "Hybrid_2             1             0             0             0             0\n",
            "Hybrid_3             1             0             0             1             0\n",
            "Hybrid_4             1             0             0             1             0\n",
            "Hybrid_5             1             0             0             1             0\n",
            "         1Allele 002_3 1Allele 003_1 1Allele 003_2 1Allele 003_3 1Allele 004_1\n",
            "Hybrid_1             0             0             0             0             0\n",
            "Hybrid_2             1             0             0             0             0\n",
            "Hybrid_3             0             0             0             0             0\n",
            "Hybrid_4             0             0             0             0             0\n",
            "Hybrid_5             0             0             0             0             0\n"
          ]
        }
      ]
    },
    {
      "cell_type": "markdown",
      "metadata": {
        "id": "yy8M6Pk1Tmqe"
      },
      "source": [
        "#### Filtrar alelos"
      ]
    },
    {
      "cell_type": "markdown",
      "metadata": {
        "id": "Qre3nia61XHJ"
      },
      "source": [
        "Solo los alelos polimórficos brindan información.\n",
        "\n",
        "Descartaremos alelos que sean:\n",
        "- **Singletons**: aquellos que están presentes en una sola muestra.\n",
        "- **Monomorficos**: aquellos que están presentes en todas las muestras."
      ]
    },
    {
      "cell_type": "code",
      "metadata": {
        "id": "Y31JH8w1pKtH",
        "colab": {
          "base_uri": "https://localhost:8080/"
        },
        "cellView": "form",
        "outputId": "b240c640-d43e-4074-cbde-69c423fab687"
      },
      "source": [
        "#@title Filtrado y selección de alelos polimórficos\n",
        "# Por cada alelo, vamos a sumar el número de muestras que presentan el alelo.\n",
        "%%R\n",
        "temp<-data.frame(colSums(dummies, dims=1))\n",
        "colnames(temp)<-c(\"count\")\n",
        "\n",
        "# Definimos las variables\n",
        "singletons<-1\n",
        "monomorphic<-nrow(dummies)\n",
        "toKeep<-subset(temp, c(count>singletons & count<monomorphic))\n",
        "toKeep<-rownames(toKeep) #alelos polimorficos\n",
        "\n",
        "#seleccionamos solo polimorficos de la matriz dummies\n",
        "binary_matrix<-dummies[,toKeep]\n",
        "\n",
        "# Guardamos la matriz binaria\n",
        "write.csv(binary_matrix, file = \"/content/results/MSAP_binary_matrix.csv\")\n",
        "\n",
        "# Vista previa de la matriz binaria\n",
        "cat(\"Número de alelos monomórficos =\", sum(temp$count==nrow(dummies)), \"\\n\")\n",
        "cat(\"Número de alelo singletons =\", sum(temp$count==1), \"\\n\")\n",
        "#cat(\"Número de alelo nulo =\", sum(temp$count<1), \"\\n\")\n",
        "cat(\"Número de alelo polimórficos =\", dim(binary_matrix)[2], \"\\n\")\n",
        "cat(\"Número de alelo totales =\", sum(temp$count>=1), \"\\n\")\n",
        "cat(\"Número de muestras =\", nrow(binary_matrix), \"\\n\")\n",
        "cat(\"\\n\",\"\\t\\t\\t\\t Vista previa de la matriz binaria:\", \"\\n\")\n",
        "binary_matrix[1:15,1:4]\n"
      ],
      "execution_count": null,
      "outputs": [
        {
          "output_type": "stream",
          "name": "stdout",
          "text": [
            "Número de alelos monomórficos = 6 \n",
            "Número de alelo singletons = 105 \n",
            "Número de alelo polimórficos = 232 \n",
            "Número de alelo totales = 343 \n",
            "Número de muestras = 15 \n",
            "\n",
            " \t\t\t\t Vista previa de la matriz binaria: \n",
            "            1Allele 001_1 1Allele 001_3 1Allele 002_1 1Allele 003_1\n",
            "Hybrid_1                1             0             1             0\n",
            "Hybrid_2                1             0             0             0\n",
            "Hybrid_3                1             0             1             0\n",
            "Hybrid_4                1             0             1             0\n",
            "Hybrid_5                1             0             1             0\n",
            "Kurtzianum              1             0             1             0\n",
            "Microdontum             1             0             0             0\n",
            "Rechei_1                1             0             0             0\n",
            "Rechei_2                0             1             0             1\n",
            "Rechei_3                1             0             0             0\n",
            "Rechei_4                1             0             0             1\n",
            "Rechei_5                1             0             0             0\n",
            "Rechei_6                0             1             0             0\n",
            "Rechei_7                1             0             0             0\n",
            "Rechei_8                0             1             0             0\n"
          ]
        }
      ]
    },
    {
      "cell_type": "markdown",
      "metadata": {
        "id": "vTzk9JVqcExR"
      },
      "source": [
        "<a name=\"step-2.4\"></a>\n",
        "### Metilación global"
      ]
    },
    {
      "cell_type": "code",
      "metadata": {
        "id": "gLkd3XTFQvG0",
        "cellView": "form"
      },
      "source": [
        "#@title Conteo de alelos metilados (*meth*) y no metilados (*unMeth*)\n",
        "%%R\n",
        "conteoPatrones<-f.count.methylation(binary_matrix)\n",
        "head(conteoPatrones)\n",
        "write.csv(conteoPatrones, file = \"patrones.csv\")\n",
        "# Calculamos valores medios para cada categoría\n",
        "summaryPatrones<-f.summary.patrones(conteoPatrones)\n",
        "write.csv(summaryPatrones, file = \"summary_Patrones.csv\")"
      ],
      "execution_count": null,
      "outputs": []
    },
    {
      "cell_type": "code",
      "metadata": {
        "id": "17QsgRmeHGwc",
        "colab": {
          "base_uri": "https://localhost:8080/",
          "height": 532
        },
        "cellView": "form",
        "outputId": "d14d20ec-6acd-450b-bd2a-5e54c5b73314"
      },
      "source": [
        "#@title Gráfico\n",
        "%%R\n",
        "p<-ggplot(summaryPatrones,aes(x=variable,y=mean, fill=samples))+ geom_bar(stat=\"identity\", position=position_dodge()) +\n",
        "geom_errorbar(aes(ymin=mean-sd, ymax=mean+sd), width=.2, position=position_dodge(.9)) +\n",
        "scale_fill_manual(values=c('aquamarine3', 'coral1', 'plum4', 'plum2')) +\n",
        "labs(title=\"\", x=\"\", y = \"Proporción de epialelos\")+ theme(axis.text=element_text(size=14),\n",
        "        axis.title=element_text(size=14,face=\"bold\"))\n",
        "plot(p)\n",
        "pdf(\"/content/plots/methylation.pdf\")\n",
        "plot(p)\n",
        "dev.off()"
      ],
      "execution_count": null,
      "outputs": [
        {
          "output_type": "stream",
          "name": "stdout",
          "text": [
            "png \n",
            "  2 \n"
          ]
        },
        {
          "output_type": "display_data",
          "data": {
            "image/png": "[encoded data removed]"
          },
          "metadata": {}
        }
      ]
    },
    {
      "cell_type": "markdown",
      "metadata": {
        "id": "FnwkBHK7NHTO"
      },
      "source": [
        "<a name=\"step-2.5\"></a>\n",
        "\n",
        "### Comparación entre híbridos"
      ]
    },
    {
      "cell_type": "markdown",
      "metadata": {
        "id": "9Lt3F-QhxfDm"
      },
      "source": [
        "Los híbridos sintéticos serán comparados con los parentales (*S. kurtzianum* y *S. microdontum*) y con los híbridos naturales (*S.* x *rechei*) para determinar cuántos alelos comparten.\n",
        "\n",
        "<p align=\"center\">\n",
        "<img src=\"https://raw.githubusercontent.com/VeronicaNoe/EpiEvo/main/img/1/Figura_comparacion.png\" width=\"800\"/> \n",
        "</p>\n"
      ]
    },
    {
      "cell_type": "code",
      "metadata": {
        "id": "BzGAuxYzOBOa",
        "cellView": "form"
      },
      "source": [
        "#@title Alelos comunes y únicos en el híbrido sintético\n",
        "%%R\n",
        "numAlleles<-ncol(binary_matrix) # Número de alelos\n",
        "natHyb<-grep(\"Rechei\", rownames(binary_matrix), value = TRUE) # S. x rechei (Híbrido natural)\n",
        "synHyb<-grep(\"Hybrid\", rownames(binary_matrix), value = TRUE) # Híbridos sintéticos\n",
        "\n",
        "out<- c()\n",
        "results<- matrix(nrow = 4, ncol = 0)\n",
        "\n",
        "for (hyb in synHyb){\n",
        "  for (allele in 1:numAlleles)\n",
        "  {\n",
        "    out<- append(out, ifelse(binary_matrix[hyb,allele]>0 & binary_matrix['Kurtzianum',allele]>0 & binary_matrix['Microdontum',allele]==0 & sum(binary_matrix[natHyb,allele])==0,'A',\n",
        "                      ifelse(binary_matrix[hyb,allele]>0 & binary_matrix['Kurtzianum',allele]==0 & binary_matrix['Microdontum',allele]>0 & sum(binary_matrix[natHyb,allele])==0,'B',\n",
        "                      ifelse(binary_matrix[hyb,allele]>0 & binary_matrix['Kurtzianum',allele]==0 & binary_matrix['Microdontum',allele]==0 & sum(binary_matrix[natHyb,allele])>0,'C',\n",
        "                      ifelse(binary_matrix[hyb,allele]>0 & binary_matrix['Kurtzianum',allele]==0 & binary_matrix['Microdontum',allele]==0 & sum(binary_matrix[natHyb,allele])==0,'D','E')))))\n",
        "   }                         \n",
        "  \n",
        "  results<-cbind(results,matrix(table(out, exclude = \"E\"),dimnames = list(c(\"Kurtzianum\",\"Microdontum\",\"Rechei\",\"Unique\"),hyb)))\n",
        "  out<- c()\n",
        "}  \n",
        "\n",
        "## Transformamos los conteos en porcentajes \n",
        "percentages<-t(results)/colSums(results)*100\n",
        "head(percentages)\n",
        "## Save output to working directory\n",
        "write.csv(percentages, file = \"/content/results/MSAP_Hybrids.csv\")"
      ],
      "execution_count": null,
      "outputs": []
    },
    {
      "cell_type": "code",
      "metadata": {
        "id": "4kvhg_dlDhMT",
        "colab": {
          "base_uri": "https://localhost:8080/"
        },
        "cellView": "form",
        "outputId": "3eb0b66d-c23e-4bcb-e0d4-c77b19d0042a"
      },
      "source": [
        "#@title Cálculo de valores medios\n",
        "%%R\n",
        "percentagesToPlot<-melt(percentages)\n",
        "colnames(percentagesToPlot)<-c(\"Hybrids\",\"Especies\",\"value\")\n",
        "summaryComparacion<-ddply(percentagesToPlot, c(\"Especies\"), summarise,\n",
        "               mean = mean(value),\n",
        "               sd = sd(value))\n",
        "write.csv(summaryComparacion, file = \"ComparacionHibridos.csv\")\n",
        "summaryComparacion"
      ],
      "execution_count": null,
      "outputs": [
        {
          "output_type": "stream",
          "name": "stdout",
          "text": [
            "     Especies     mean       sd\n",
            "1  Kurtzianum 23.97483 4.852916\n",
            "2 Microdontum 41.38850 6.365690\n",
            "3      Rechei 15.12979 5.317959\n",
            "4      Unique 19.50688 3.378486\n"
          ]
        }
      ]
    },
    {
      "cell_type": "code",
      "metadata": {
        "id": "I4DZNrBZz1MG",
        "colab": {
          "base_uri": "https://localhost:8080/",
          "height": 532
        },
        "cellView": "form",
        "outputId": "0fbeb182-b9ad-4c87-f446-436675720366"
      },
      "source": [
        "#@title Gráfico\n",
        "%%R\n",
        "p<-ggplot(summaryComparacion,aes(x=Especies,y=mean, fill=Especies))+ geom_bar(stat=\"identity\", position=position_dodge(), show.legend = F) +\n",
        "geom_errorbar(aes(ymin=mean-sd, ymax=mean+sd), width=.2, position=position_dodge(.9)) +\n",
        "scale_fill_manual(values=c('aquamarine3', 'coral1', 'plum4', 'plum2')) +\n",
        "labs(title=\"\", x=\"\", y = \"Epi-alelos compartidos \\n (%)\")+ theme(axis.text=element_text(size=14),\n",
        "        axis.title=element_text(size=14,face=\"bold\"))\n",
        "plot(p)\n",
        "pdf(\"/content/plots/comparaciónHibridos.pdf\")\n",
        "plot(p)\n",
        "dev.off()"
      ],
      "execution_count": null,
      "outputs": [
        {
          "output_type": "stream",
          "name": "stdout",
          "text": [
            "png \n",
            "  2 \n"
          ]
        },
        {
          "output_type": "display_data",
          "data": {
            "image/png": "[encoded data removed]"
          },
          "metadata": {}
        }
      ]
    },
    {
      "cell_type": "markdown",
      "metadata": {
        "id": "nAHXw_UZQAlQ"
      },
      "source": [
        "<a name=\"step-3\"></a>\n",
        "## Paso 2. Guardar en Drive (OPCIONAL)\n"
      ]
    },
    {
      "cell_type": "markdown",
      "metadata": {
        "id": "h-k8xn92tFmt"
      },
      "source": [
        "> **Nota:** Este paso es opcional. Si desea copiar los datos generados por este cuaderno en su Google drive, debe eliminar el numeral (`#`) de cada línea de código EXCEPTO la primera ``#@title`` en la celda de abajo."
      ]
    },
    {
      "cell_type": "code",
      "metadata": {
        "id": "okG5jlLOtFGz",
        "cellView": "form"
      },
      "source": [
        "#@title Guardar archivos en el Drive personal\n",
        "%%bash\n",
        "#mkdir ../drive/MyDrive/EpiEvo/TP_1\n",
        "#cd ..\n",
        "#echo 'Usted está en:'\n",
        "#pwd\n",
        "#echo 'Lista de archivos en colab:'\n",
        "#ls\n",
        "#cp -r {plots,rawData,results} drive/MyDrive/EpiEvo/TP_1/\n",
        "#echo 'Lista de archivos en TP_1 en su drive:'\n",
        "#ls drive/MyDrive/EpiEvo/TP_1/"
      ],
      "execution_count": null,
      "outputs": []
    }
  ]
}
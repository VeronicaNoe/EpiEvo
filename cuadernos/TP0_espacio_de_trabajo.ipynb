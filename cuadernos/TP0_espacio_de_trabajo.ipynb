{
  "nbformat": 4,
  "nbformat_minor": 0,
  "metadata": {
    "colab": {
      "name": "TP0_espacio_de_trabajo.ipynb",
      "provenance": [],
      "collapsed_sections": [
        "LH559JzULEgQ",
        "Kp_TCNwQq0Ym",
        "Yz3Zzt-wdAfq",
        "DDp2qfzqdIOt",
        "sx-5Ho0Eoxyf"
      ],
      "toc_visible": true
    },
    "kernelspec": {
      "name": "python3",
      "display_name": "Python 3"
    },
    "language_info": {
      "name": "python"
    }
  },
  "cells": [
    {
      "cell_type": "markdown",
      "metadata": {
        "id": "eTN5ehOBe7ej"
      },
      "source": [
        "# TP0: Preparar espacio de trabajo\n",
        "\n",
        "Este [cuaderno Jupyter](https://es.wikipedia.org/wiki/Proyecto_Jupyter) prepara el espacio de trabajo para los prácticos del [curso de Epigenética y Evolución de Plantas](https://github.com/VeronicaNoe/EpiEvo). Para continuar, necesita contar con una cuenta de Google, la cual será utilizada para ejecutar los prácticos escritos en forma de cuadernos Jupyter. \n",
        "\n",
        "Para ejecutar los cuadernos, se utilizará un simple navegador web junto con _Google Colaboratory_ ([Colab](https://colab.research.google.com/notebooks/intro.ipynb?utm_source=scs-index)), una plataforma de computo de acceso gratuito en la nube de Google.\n",
        "\n",
        "\n",
        "\n"
      ]
    },
    {
      "cell_type": "markdown",
      "metadata": {
        "id": "4Yhh91H_Cpfi"
      },
      "source": [
        "## Contenido\n",
        "\n",
        "A. [Preparar espacio de trabajo](#cell-A)\n",
        "\n",
        "1.   [Crear carpeta en Google Drive](#cell-1)\n",
        "2.   [Obtener datos para TPs](#cell-2)\n",
        "3.   [Verificar espacio de trabajo](#cell-3)\n",
        "\n",
        "B. [Instalar aplicación Colab](#cell-B)\n",
        "\n",
        "C.   [Aprender a autorizar acceso a Google Drive](#cell-C)\n"
      ]
    },
    {
      "cell_type": "markdown",
      "metadata": {
        "id": "FTbqkwlHa6TW"
      },
      "source": [
        "<a name=\"cell-A\"></a>\n",
        "## A. Preparar espacio de trabajo"
      ]
    },
    {
      "cell_type": "markdown",
      "metadata": {
        "id": "LH559JzULEgQ"
      },
      "source": [
        "<a name=\"cell-1\"></a>\n",
        "### Paso 1. Crear carpeta en Google Drive <img src=\"http://icons.iconarchive.com/icons/marcus-roberto/google-play/256/Google-Drive-icon.png\" width=\"20\">"
      ]
    },
    {
      "cell_type": "markdown",
      "metadata": {
        "id": "JsCB16ZLHPhk"
      },
      "source": [
        "\n",
        "\n",
        "1. Acceder a [Google Drive](https://drive.google.com).\n",
        "\n",
        "2.   Presionar botón `Nuevo`.\n",
        "\n",
        "<img src=\"https://raw.githubusercontent.com/VeronicaNoe/EpiEvo/main/img/0_crear_dir1.png\" width=\"200\"/>\n",
        "\n",
        "3.   Seleccionar `Carpeta`.\n",
        "\n",
        "<img src=\"https://raw.githubusercontent.com/VeronicaNoe/EpiEvo/main/img/0_crear_dir2.png\" width=\"200\"/>\n",
        "\n",
        "4.   Ingresar `EpiEvo` y luego presionar `Crear`.\n",
        "\n",
        "<img src=\"https://raw.githubusercontent.com/VeronicaNoe/EpiEvo/main/img/0_crear_dir3.png\" width=\"300\"/>\n"
      ]
    },
    {
      "cell_type": "markdown",
      "metadata": {
        "id": "Kp_TCNwQq0Ym"
      },
      "source": [
        "<a name=\"cell-2\"></a>\n",
        "### Paso 2. Obtener datos para TPs"
      ]
    },
    {
      "cell_type": "markdown",
      "metadata": {
        "id": "nHg51AkcC0Lr"
      },
      "source": [
        "Los datos utilizados en los prácticos se encuentran publicamente compartidos. Siga los siguiente pasos para obtener una copia de los mismos."
      ]
    },
    {
      "cell_type": "markdown",
      "metadata": {
        "id": "wHymR8W8rGiZ"
      },
      "source": [
        "\n",
        "\n",
        "1.   Cliquear este [enlace](https://drive.google.com/drive/folders/1XyU2rEoBay2dIyQg0gB_bD9D5imPLe99?usp=sharing)\n",
        "\n",
        "\n",
        "2. Presionar `epievo_data`\n",
        "\n",
        "<img src=\"https://raw.githubusercontent.com/VeronicaNoe/EpiEvo/main/img/0_paso3a.png\" width=\"550\"/>\n",
        "\n",
        "3.   Presionar `Add a shortcut`.\n",
        "\n",
        "<img src=\"https://raw.githubusercontent.com/VeronicaNoe/EpiEvo/main/img/0_paso3b.png\" width=\"550\"/>\n",
        "\n",
        "4.   Selecionar `My Drive`.\n",
        "\n",
        "<img src=\"https://raw.githubusercontent.com/VeronicaNoe/EpiEvo/main/img/0_paso3c.png\" width=\"550\"/>\n",
        "\n",
        "5.   Selecionar `EpiEvo`.\n",
        "\n",
        "<img src=\"https://raw.githubusercontent.com/VeronicaNoe/EpiEvo/main/img/0_paso3d.png\" width=\"550\"/>\n",
        "\n",
        "6.   Presionar `ADD SHORTCUT`.\n",
        "\n",
        "<img src=\"https://raw.githubusercontent.com/VeronicaNoe/EpiEvo/main/img/0_paso3e.png\" width=\"550\"/>\n"
      ]
    },
    {
      "cell_type": "markdown",
      "metadata": {
        "id": "Yz3Zzt-wdAfq"
      },
      "source": [
        "<a name=\"cell-3\"></a>\n",
        "### Paso 3. Verificar espacio de trabajo"
      ]
    },
    {
      "cell_type": "markdown",
      "metadata": {
        "id": "T1BM3rWa2_Up"
      },
      "source": [
        "\n",
        "\n",
        "Una carpeta llamada `EpiEvo` debería estar en su Google Drive. Dentro de esta, debería encontrarse una carpeta llamada `epievo_data`. \n",
        "\n",
        "1. Por favor, verifique que dichas carpetas están presentes en su Drive el cual puede acceder cliqueando [este enlace](https://drive.google.com).\n",
        "\n",
        "2. Dentro de `EpiEvo` la siguiente estructura de directorios debería estar presente.\n",
        "<img src=\"https://raw.githubusercontent.com/VeronicaNoe/EpiEvo/main/img/Colab4.png\" width=\"550\"/>\n",
        "\n",
        "3. Cada carpeta contiene un cuaderno (archivos con extensión **.ipynb**) que pueden ser abiertos con Colab haciendo doble click. Si un cuaderno no puede ser abierto, probablemente hay que [Instalar Colab](#cell-4)."
      ]
    },
    {
      "cell_type": "markdown",
      "metadata": {
        "id": "DDp2qfzqdIOt"
      },
      "source": [
        "<a name=\"cell-B\"></a>\n",
        "## B. Instalar aplicación Colab"
      ]
    },
    {
      "cell_type": "markdown",
      "metadata": {
        "id": "zN81XIBduNNP"
      },
      "source": [
        "Para instalar Google Colaboratory en Google Drive, realizar los siguientes pasos:\n",
        "\n",
        "1. Ir al menu de Drive y seleccionar `NUEVO` > `MÁS` > `+ Conectar más aplicaciones` (ó `NEW` > `MORE` > `+ Connect more apps`).\n",
        "\n",
        "<img src=\"https://raw.githubusercontent.com/VeronicaNoe/EpiEvo/main/img/Colab1.png\" width=\"400\"/>\n",
        "\n",
        "2. En la barra de búsqueda, ingresar `Colaboratory` y seleccionar la app de Google Colaboratory (CO).\n",
        "\n",
        "<img src=\"https://raw.githubusercontent.com/VeronicaNoe/EpiEvo/main/img/Colab2.png\" width=\"550\"/>\n",
        "\n",
        "3. Presionar el botón \"Instalar/Install\".\n",
        "\n",
        "<img src=\"https://raw.githubusercontent.com/VeronicaNoe/EpiEvo/main/img/Colab3.png\" width=\"550\"/>\n",
        "\n"
      ]
    },
    {
      "cell_type": "markdown",
      "metadata": {
        "id": "sx-5Ho0Eoxyf"
      },
      "source": [
        "<a name=\"cell-C\"></a>\n",
        "## C. Aprender a autorizar acceso a Google Drive"
      ]
    },
    {
      "cell_type": "markdown",
      "metadata": {
        "id": "W9-PkvNMxOMK"
      },
      "source": [
        "Esta celda muestra cómo autorizar a un cuaderno acceso a Google Drive.\n",
        "\n",
        "1. Presionar el botón play, cliquea el enlace mostrado en `Go to this URL in a browser`.\n",
        "<img src=\"https://raw.githubusercontent.com/VeronicaNoe/EpiEvo/main/img/00_paso1a.png\" width=\"550\"/>\n",
        "\n",
        "2. Copie el código de autenticación.\n",
        "<img src=\"https://raw.githubusercontent.com/VeronicaNoe/EpiEvo/main/img/00_paso1b.png\" width=\"550\"/>\n",
        "\n",
        "3. Ingresar dicho código en el campo `Enter authorization code`.\n",
        "<img src=\"https://raw.githubusercontent.com/VeronicaNoe/EpiEvo/main/img/00_paso1c.png\" width=\"550\"/>"
      ]
    },
    {
      "cell_type": "code",
      "metadata": {
        "cellView": "form",
        "id": "ZopBTq1JxG0q"
      },
      "source": [
        "#@title Solicitar acceso a Google Drive\n",
        "from google.colab import drive\n",
        "drive.mount('/content/drive')"
      ],
      "execution_count": null,
      "outputs": []
    }
  ]
}
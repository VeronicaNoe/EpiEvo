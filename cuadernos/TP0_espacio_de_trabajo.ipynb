{
  "nbformat": 4,
  "nbformat_minor": 0,
  "metadata": {
    "colab": {
      "name": "TP0_espacio_de_trabajo.ipynb",
      "provenance": [],
      "collapsed_sections": [],
      "toc_visible": true
    },
    "kernelspec": {
      "name": "python3",
      "display_name": "Python 3"
    },
    "language_info": {
      "name": "python"
    }
  },
  "cells": [
    {
      "cell_type": "markdown",
      "metadata": {
        "id": "eTN5ehOBe7ej"
      },
      "source": [
        "# TP0: Preparar espacio de trabajo\n",
        "\n",
        "Este [cuaderno Jupyter](https://es.wikipedia.org/wiki/Proyecto_Jupyter) prepara el espacio de trabajo para los prácticos del curso de Epigenética y Evolución de Plantas. Para esto, debe contar con una cuenta de Google la cual será utilizada para almacenar datos y cuadernos. \n",
        "\n",
        "Los cuardernos del curso pueden ser ejecutados utilizando un navegador y _Google Colaboratory_ ([Colab](https://colab.research.google.com/notebooks/intro.ipynb?utm_source=scs-index)), el cual ofrece acceso gratuito a computadoras remotas en la nube de Google.\n",
        "\n",
        "\n",
        "\n"
      ]
    },
    {
      "cell_type": "markdown",
      "metadata": {
        "id": "4Yhh91H_Cpfi"
      },
      "source": [
        "## Contenido\n",
        "\n",
        "Cuatro tareas son requeridas para preparar el espacio de trabajo:\n",
        "\n",
        "\n",
        "\n",
        "1.   [Autorización de acceso a Google Drive](#cell-1)\n",
        "2.   [Crear espacio de trabajo](#cell-2)\n",
        "3.   [Obtener datos para TPs](#cell-3)\n",
        "4.   [Verificación del espacio de trabajo](#cell-4)\n"
      ]
    },
    {
      "cell_type": "markdown",
      "metadata": {
        "id": "sx-5Ho0Eoxyf"
      },
      "source": [
        "<a name=\"cell-2\"></a>\n",
        "## Paso 1. Autorización de acceso a Google Drive"
      ]
    },
    {
      "cell_type": "markdown",
      "metadata": {
        "id": "W9-PkvNMxOMK"
      },
      "source": [
        "\n",
        "Para almacenar los datos generados por este cuaderno en tu Google Drive <img src=\"http://icons.iconarchive.com/icons/marcus-roberto/google-play/256/Google-Drive-icon.png\" width=\"20\">, siga las instrucciones para ejecutar **la celda de abajo**:\n",
        "\n",
        "1. A. Presionado el botón play, cliquea el enlace mostrado en `Go to this URL in a browser`.\n",
        "<img src=\"https://raw.githubusercontent.com/VeronicaNoe/EpiEvo/main/img/00_paso1a.png\" width=\"550\"/>\n",
        "\n",
        "2. Copie el código de autenticación.\n",
        "<img src=\"https://raw.githubusercontent.com/VeronicaNoe/EpiEvo/main/img/00_paso1b.png\" width=\"550\"/>\n",
        "\n",
        "3. Pege el código de autorización en el campo `Enter authorization code`.\n",
        "<img src=\"https://raw.githubusercontent.com/VeronicaNoe/EpiEvo/main/img/00_paso1c.png\" width=\"550\"/>"
      ]
    },
    {
      "cell_type": "code",
      "metadata": {
        "cellView": "form",
        "id": "ZopBTq1JxG0q"
      },
      "source": [
        "#@title Solicitar acceso a Google Drive\n",
        "from google.colab import drive\n",
        "drive.mount('/content/drive')"
      ],
      "execution_count": null,
      "outputs": []
    },
    {
      "cell_type": "markdown",
      "metadata": {
        "id": "Zxyv-0KpXSWi"
      },
      "source": [
        "<a name=\"cell-2\"></a>\n",
        "## Paso 2. Crear espacio de trabajo\n",
        "\n"
      ]
    },
    {
      "cell_type": "code",
      "metadata": {
        "colab": {
          "base_uri": "https://localhost:8080/"
        },
        "id": "RoviCsHgReIz",
        "cellView": "form",
        "outputId": "21ff1d8d-dd2c-4b08-a3b8-3da6526dd8f6"
      },
      "source": [
        "#@markdown Una vez establecida la conexión con Google Drive, esta celda crea el espacio de trabajo en tu Drive. El espacio de trabajo consiste en cuadernos con el contenido de los prácticos.\n",
        "repo_url = \"https://github.com/VeronicaNoe/EpiEvo.git\" # repo con cuadernos\n",
        "data_key = \"1XyU2rEoBay2dIyQg0gB_bD9D5imPLe99\" # datos\n",
        "\n",
        "# clonar repositorio git con los cuadernos en Google Drive\n",
        "%cd drive/MyDrive\n",
        "!git clone \"{repo_url}\" > /dev/null\n",
        "!ls"
      ],
      "execution_count": null,
      "outputs": [
        {
          "output_type": "stream",
          "name": "stdout",
          "text": [
            "/content/drive/MyDrive\n",
            "Cloning into 'EpiEvo'...\n",
            "remote: Enumerating objects: 28, done.\u001b[K\n",
            "remote: Counting objects: 100% (28/28), done.\u001b[K\n",
            "remote: Compressing objects: 100% (25/25), done.\u001b[K\n",
            "remote: Total 28 (delta 8), reused 17 (delta 3), pack-reused 0\u001b[K\n",
            "Unpacking objects: 100% (28/28), done.\n",
            "/content/drive/My Drive/EpiEvo\n",
            "Permission denied: https://drive.google.com/uc?id=1XyU2rEoBay2dIyQg0gB_bD9D5imPLe99\n",
            "Maybe you need to change permission over 'Anyone with the link'?\n",
            "img  TP_01_A.png  TP_01_B.png  TP_01_C.png\n"
          ]
        }
      ]
    },
    {
      "cell_type": "markdown",
      "metadata": {
        "id": "Kp_TCNwQq0Ym"
      },
      "source": [
        "<a name=\"cell-3\"></a>\n",
        "## Paso 3. Obtener datos para TPs"
      ]
    },
    {
      "cell_type": "markdown",
      "metadata": {
        "id": "nHg51AkcC0Lr"
      },
      "source": [
        "Los datos utilizados en los prácticos se encuentran publicamente compartidos. Siga los siguiente pasos para obtener una copia de los mismos."
      ]
    },
    {
      "cell_type": "markdown",
      "metadata": {
        "id": "wHymR8W8rGiZ"
      },
      "source": [
        "\n",
        "\n",
        "1.   Cliquee este [enlace](https://drive.google.com/drive/folders/1XyU2rEoBay2dIyQg0gB_bD9D5imPLe99?usp=sharing)\n",
        "<img src=\"https://raw.githubusercontent.com/VeronicaNoe/EpiEvo/main/img/0_paso3a.png\" width=\"550\"/>\n",
        "\n",
        "2.   List item\n",
        "<img src=\"https://raw.githubusercontent.com/VeronicaNoe/EpiEvo/main/img/0_paso3b.png\" width=\"550\"/>\n",
        "\n",
        "3.   List imte2\n",
        "<img src=\"https://raw.githubusercontent.com/VeronicaNoe/EpiEvo/main/img/0_paso3c.png\" width=\"550\"/>\n",
        "\n",
        "4.   List imte2\n",
        "<img src=\"https://raw.githubusercontent.com/VeronicaNoe/EpiEvo/main/img/0_paso3d.png\" width=\"550\"/>\n",
        "\n",
        "5.   List imte2\n",
        "<img src=\"https://raw.githubusercontent.com/VeronicaNoe/EpiEvo/main/img/0_paso3e.png\" width=\"550\"/>\n"
      ]
    },
    {
      "cell_type": "markdown",
      "metadata": {
        "id": "Yz3Zzt-wdAfq"
      },
      "source": [
        "<a name=\"cell-4\"></a>\n",
        "## Paso 4. Verificación de espacio de trabajo"
      ]
    },
    {
      "cell_type": "markdown",
      "metadata": {
        "id": "T1BM3rWa2_Up"
      },
      "source": [
        "\n",
        "\n",
        "En el paso anterior, se creará una carpeta llamada `EpiEvo` en su Google Drive. Dentro de esta carpeta deberían encontrarse los prácticos más una carpeta adicional con datos. \n",
        "\n",
        "1. Por favor, verifique que dichas carpetas están presentes en su Drive el cual puede acceder cliqueando [este enlace](https://drive.google.com).\n",
        "\n",
        "2. Dentro de `EpiEvo` la siguiente estructura de directorios debería estar presente.\n",
        "<img src=\"https://raw.githubusercontent.com/VeronicaNoe/EpiEvo/main/img/Colab4.png\" width=\"550\"/>\n",
        "\n",
        "3. Cada carpeta contiene un cuaderno (archivos con extensión **.ipynb**) que pueden ser abiertos con Colab haciendo doble click. Si un cuaderno no puede ser abierto, probablemente hay que [Instalar Colab](#cell-4)."
      ]
    },
    {
      "cell_type": "markdown",
      "metadata": {
        "id": "DDp2qfzqdIOt"
      },
      "source": [
        "<a name=\"cell-4\"></a>\n",
        "### Instalar Colab (OPCIONAL)"
      ]
    },
    {
      "cell_type": "markdown",
      "metadata": {
        "id": "zN81XIBduNNP"
      },
      "source": [
        "Para instalar Google Colaboratory en Google Drive, realizar los siguientes pasos:\n",
        "\n",
        "- Ir al menu de Drive y seleccionar `NUEVO` > `MÁS` > `+ Conectar más aplicaciones` (ó `NEW` > `MORE` > `+ Connect more apps`).\n",
        "\n",
        "<img src=\"https://raw.githubusercontent.com/VeronicaNoe/EpiEvo/main/img/Colab1.png\" width=\"400\"/>\n",
        "\n",
        "- En la barra de búsqueda, ingresar `Colaboratory` y seleccionar la app de Google Colaboratory (CO).\n",
        "\n",
        "<img src=\"https://raw.githubusercontent.com/VeronicaNoe/EpiEvo/main/img/Colab2.png\" width=\"550\"/>\n",
        "\n",
        "- Finalmente, tocar el botón \"Instalar/Install\".\n",
        "\n",
        "<img src=\"https://raw.githubusercontent.com/VeronicaNoe/EpiEvo/main/img/Colab3.png\" width=\"550\"/>\n",
        "\n"
      ]
    }
  ]
}
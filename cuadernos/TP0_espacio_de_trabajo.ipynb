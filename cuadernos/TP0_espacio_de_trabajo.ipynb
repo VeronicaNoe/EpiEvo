{
  "nbformat": 4,
  "nbformat_minor": 0,
  "metadata": {
    "colab": {
      "name": "TP0_espacio_de_trabajo.ipynb",
      "provenance": [],
      "collapsed_sections": [
        "eTN5ehOBe7ej",
        "4Yhh91H_Cpfi",
        "FTbqkwlHa6TW",
        "LH559JzULEgQ",
        "Yz3Zzt-wdAfq",
        "DDp2qfzqdIOt",
        "sx-5Ho0Eoxyf",
        "CPP9BNEANu4C"
      ]
    },
    "kernelspec": {
      "name": "python3",
      "display_name": "Python 3"
    },
    "language_info": {
      "name": "python"
    }
  },
  "cells": [
    {
      "cell_type": "markdown",
      "metadata": {
        "id": "eTN5ehOBe7ej"
      },
      "source": [
        "# TP0: Preparar espacio de trabajo\n",
        "\n",
        "Este [cuaderno Jupyter](https://es.wikipedia.org/wiki/Proyecto_Jupyter) prepara el espacio de trabajo para los prácticos del [curso de Epigenética y Evolución de Plantas](https://github.com/VeronicaNoe/EpiEvo). Esto requiere tener una [cuenta de Google](https://accounts.google.com/signin/v2/identifier). \n",
        "\n",
        "Para ejecutar los cuadernos, se utilizará un simple navegador web junto con _Google Colaboratory_ ([Colab](https://colab.research.google.com/notebooks/intro.ipynb?utm_source=scs-index)), una plataforma de computo de acceso gratuito en la nube de Google.\n",
        "\n",
        "\n",
        "\n"
      ]
    },
    {
      "cell_type": "code",
      "metadata": {
        "colab": {
          "base_uri": "https://localhost:8080/"
        },
        "id": "WCb1fLtJzPjw",
        "outputId": "fedbc58f-5e4b-4940-c43c-e086032d0f49"
      },
      "source": [
        "a = 4\n",
        "b = 3\n",
        "print(a+b)"
      ],
      "execution_count": null,
      "outputs": [
        {
          "output_type": "stream",
          "name": "stdout",
          "text": [
            "7\n"
          ]
        }
      ]
    },
    {
      "cell_type": "code",
      "metadata": {
        "colab": {
          "base_uri": "https://localhost:8080/"
        },
        "id": "q9rtCFw9zdJY",
        "outputId": "f059fcfc-79f2-4544-edd7-2b367c4b1f0f"
      },
      "source": [
        "print(\"Hola mundo\")"
      ],
      "execution_count": null,
      "outputs": [
        {
          "output_type": "stream",
          "name": "stdout",
          "text": [
            "Hola mundo\n"
          ]
        }
      ]
    },
    {
      "cell_type": "markdown",
      "metadata": {
        "id": "4Yhh91H_Cpfi"
      },
      "source": [
        "## Contenido\n",
        "\n",
        "A. [Preparar espacio de trabajo](#cell-A)\n",
        "\n",
        "1.   [Crear carpeta en Google Drive](#cell-1)\n",
        "2.   [Obtener datos para TPs](#cell-2)\n",
        "3.   [Verificar espacio de trabajo](#cell-3)\n",
        "\n",
        "B. [Instalar aplicación Colab](#cell-B)\n",
        "\n",
        "C.   [Autorizar acceso a Google Drive](#cell-C)\n"
      ]
    },
    {
      "cell_type": "markdown",
      "metadata": {
        "id": "kMJFSAirOUS8"
      },
      "source": [
        "<table>\n",
        "<tr>\n",
        "<td>\n",
        "<img src=\"https://raw.githubusercontent.com/VeronicaNoe/EpiEvo/main/img/Kahoot_img.png\" width=\"100\"/> \n",
        "</td>\n",
        "<td>\n",
        "TP0_A\n",
        "</td>\n",
        "</tr>\n",
        "</table>\n"
      ]
    },
    {
      "cell_type": "markdown",
      "metadata": {
        "id": "moOk4B_TO0QW"
      },
      "source": [
        "<table>\n",
        "<tr>\n",
        "<td>\n",
        "<img src=\"https://raw.githubusercontent.com/VeronicaNoe/EpiEvo/main/img/Kahoot_img.png\" width=\"100\"/> \n",
        "</td>\n",
        "<td>\n",
        "TP0_B\n",
        "</td>\n",
        "</tr>\n",
        "</table>"
      ]
    },
    {
      "cell_type": "markdown",
      "metadata": {
        "id": "FTbqkwlHa6TW"
      },
      "source": [
        "<a name=\"cell-A\"></a>\n",
        "## A. Preparar espacio de trabajo"
      ]
    },
    {
      "cell_type": "markdown",
      "metadata": {
        "id": "LH559JzULEgQ"
      },
      "source": [
        "<a name=\"cell-1\"></a>\n",
        "### Paso 1. Crear carpeta en Google Drive <img src=\"http://icons.iconarchive.com/icons/marcus-roberto/google-play/256/Google-Drive-icon.png\" width=\"20\">"
      ]
    },
    {
      "cell_type": "markdown",
      "metadata": {
        "id": "JsCB16ZLHPhk"
      },
      "source": [
        "\n",
        "\n",
        "1. Acceder a [Google Drive](https://drive.google.com).\n",
        "\n",
        "2.   Presionar botón `Nuevo`/`New`.\n",
        "\n",
        "  <table>\n",
        "  <tr>\n",
        "  <th>Es</th>\n",
        "  <th>En</th>\n",
        "  </tr>\n",
        "  <tr>\n",
        "  <td><img src=\"https://raw.githubusercontent.com/VeronicaNoe/EpiEvo/main/img/0/0_crear_dir1_en.png\" width=\"200\"/></td>\n",
        "  <td><img src=\"https://raw.githubusercontent.com/VeronicaNoe/EpiEvo/main/img/0/0_crear_dir1.png\" width=\"200\"/></td>\n",
        "  </tr>\n",
        "</table>\n",
        "    \n",
        "\n",
        "3.   Seleccionar `Carpeta`/`Folder`.\n",
        "  <table>\n",
        "    <tr>\n",
        "  <th>Es</th>\n",
        "  <th>En</th>\n",
        "  </tr>\n",
        "  <tr>\n",
        "  <td><img src=\"https://raw.githubusercontent.com/VeronicaNoe/EpiEvo/main/img/0/0_crear_dir2_en.png\" width=\"200\"/></td>\n",
        "  <td><img src=\"https://raw.githubusercontent.com/VeronicaNoe/EpiEvo/main/img/0/0_crear_dir2.png\" width=\"200\"/></td>\n",
        "  </tr>\n",
        "  </table>\n",
        "\n",
        "4.   Ingresar `EpiEvo` y luego presionar `Crear`/`Create`.\n",
        "\n",
        "**Nota:** Respetar mayúsculas.\n",
        " <table>\n",
        "    <tr>\n",
        "  <th>Es</th>\n",
        "  <th>En</th>\n",
        "  </tr>\n",
        "  <tr>\n",
        "  <td><img src=\"https://raw.githubusercontent.com/VeronicaNoe/EpiEvo/main/img/0/0_crear_dir3_en.png\" width=\"300\"/></td>\n",
        "  <td><img src=\"https://raw.githubusercontent.com/VeronicaNoe/EpiEvo/main/img/0/0_crear_dir3.png\" width=\"300\"/></td>\n",
        "  </tr>\n",
        "  </table>\n"
      ]
    },
    {
      "cell_type": "markdown",
      "metadata": {
        "id": "Kp_TCNwQq0Ym"
      },
      "source": [
        "<a name=\"cell-2\"></a>\n",
        "### Paso 2. Obtener datos para TPs"
      ]
    },
    {
      "cell_type": "markdown",
      "metadata": {
        "id": "nHg51AkcC0Lr"
      },
      "source": [
        "Los datos utilizados en los prácticos se encuentran publicamente compartidos. Siga los siguiente pasos para obtener una copia de los mismos."
      ]
    },
    {
      "cell_type": "markdown",
      "metadata": {
        "id": "wHymR8W8rGiZ"
      },
      "source": [
        "1.   Cliquear este [enlace](https://drive.google.com/drive/folders/1XyU2rEoBay2dIyQg0gB_bD9D5imPLe99?usp=sharing)\n",
        "\n",
        "\n",
        "2. Presionar `epievo_data`\n",
        "\n",
        "<table>\n",
        "<tr>\n",
        "<th>\n",
        "Es\n",
        "</th>\n",
        "<th>\n",
        "En\n",
        "</th>\n",
        "</tr>\n",
        "<tr>\n",
        "<td>\n",
        "<img src=\"https://raw.githubusercontent.com/VeronicaNoe/EpiEvo/main/img/0/0_paso3a_es.png\" width=\"550\"/>\n",
        "</td>\n",
        "<td>\n",
        "<img src=\"https://raw.githubusercontent.com/VeronicaNoe/EpiEvo/main/img/0/0_paso3a.png\" width=\"550\"/>\n",
        "</td>\n",
        "</tr>\n",
        "</table>\n",
        "\n",
        "3.   Presionar `AGREGAR ACCESO DIRECTO`/`ADD SHORTCUT`.\n",
        "\n",
        "<table>\n",
        "<tr>\n",
        "<th>\n",
        "Es\n",
        "</th>\n",
        "<th>\n",
        "En\n",
        "</th>\n",
        "</tr>\n",
        "<tr>\n",
        "<td>\n",
        "<img src=\"https://raw.githubusercontent.com/VeronicaNoe/EpiEvo/main/img/0/0_paso3b_es.png\" width=\"550\"/>\n",
        "</td>\n",
        "<td>\n",
        "<img src=\"https://raw.githubusercontent.com/VeronicaNoe/EpiEvo/main/img/0/0_paso3b.png\" width=\"550\"/>\n",
        "</td>\n",
        "</tr>\n",
        "</table>\n",
        "\n",
        "4.   Selecionar `Mi unidad`/`My Drive`.\n",
        "\n",
        "<table>\n",
        "<tr>\n",
        "<th>\n",
        "Es\n",
        "</th>\n",
        "<th>\n",
        "En\n",
        "</th>\n",
        "</tr>\n",
        "<tr>\n",
        "<td>\n",
        "<img src=\"https://raw.githubusercontent.com/VeronicaNoe/EpiEvo/main/img/0/0_paso3c_es.png\" width=\"550\"/>\n",
        "</td>\n",
        "<td>\n",
        "<img src=\"https://raw.githubusercontent.com/VeronicaNoe/EpiEvo/main/img/0/0_paso3c.png\" width=\"550\"/>\n",
        "</td>\n",
        "</tr>\n",
        "</table>\n",
        "\n",
        "5.   Selecionar `EpiEvo`.\n",
        "\n",
        "<table>\n",
        "<tr>\n",
        "<th>\n",
        "Es\n",
        "</th>\n",
        "<th>\n",
        "En\n",
        "</th>\n",
        "</tr>\n",
        "<tr>\n",
        "<td>\n",
        "<img src=\"https://raw.githubusercontent.com/VeronicaNoe/EpiEvo/main/img/0/0_paso3d_es.png\" width=\"550\"/>\n",
        "</td>\n",
        "<td>\n",
        "<img src=\"https://raw.githubusercontent.com/VeronicaNoe/EpiEvo/main/img/0/0_paso3d.png\" width=\"550\"/>\n",
        "</td>\n",
        "</tr>\n",
        "</table>\n",
        "\n",
        "6.   Presionar `AGREGAR ACCESO`/`ADD SHORTCUT`.\n",
        "\n",
        "<table>\n",
        "<tr>\n",
        "<th>\n",
        "Es\n",
        "</th>\n",
        "<th>\n",
        "En\n",
        "</th>\n",
        "</tr>\n",
        "<tr>\n",
        "<td>\n",
        "<img src=\"https://raw.githubusercontent.com/VeronicaNoe/EpiEvo/main/img/0/0_paso3e_es.png\" width=\"550\"/>\n",
        "</td>\n",
        "<td>\n",
        "<img src=\"https://raw.githubusercontent.com/VeronicaNoe/EpiEvo/main/img/0/0_paso3e.png\" width=\"550\"/>\n",
        "</td>\n",
        "</tr>\n",
        "</table>\n"
      ]
    },
    {
      "cell_type": "markdown",
      "metadata": {
        "id": "Yz3Zzt-wdAfq"
      },
      "source": [
        "<a name=\"cell-3\"></a>\n",
        "### Paso 3. Verificar el espacio de trabajo"
      ]
    },
    {
      "cell_type": "markdown",
      "metadata": {
        "id": "T1BM3rWa2_Up"
      },
      "source": [
        "Por favor, verifique la presencia de las siguientes carpetas en su Google Drive:\n",
        "\n",
        "1. La carpeta `EpiEvo`. \n",
        "  <p align='center'>\n",
        "  <img src=\"https://raw.githubusercontent.com/VeronicaNoe/EpiEvo/main/img/0/Colab4.png\" width=\"350\"/>\n",
        "  </p>\n",
        "\n",
        "2. Y dentro de `EpiEvo`, la carpeta `epievo_data`. \n",
        "  <p align='center'>\n",
        "  <img src=\"https://raw.githubusercontent.com/VeronicaNoe/EpiEvo/main/img/0/Colab5.png\" width=\"350\"/>\n",
        "  </p>\n",
        "\n"
      ]
    },
    {
      "cell_type": "markdown",
      "metadata": {
        "id": "DDp2qfzqdIOt"
      },
      "source": [
        "<a name=\"cell-B\"></a>\n",
        "## B. Instalar aplicación Colab"
      ]
    },
    {
      "cell_type": "markdown",
      "metadata": {
        "id": "zN81XIBduNNP"
      },
      "source": [
        "Para instalar Google Colaboratory en Google Drive, realizar los siguientes pasos:\n",
        "\n",
        "1. Ir al menu de Drive y seleccionar `NUEVO` > `MÁS` > `+ Conectar más aplicaciones` (ó `NEW` > `MORE` > `+ Connect more apps`).\n",
        "\n",
        "<img src=\"https://raw.githubusercontent.com/VeronicaNoe/EpiEvo/main/img/0/Colab1.png\" width=\"400\"/>\n",
        "\n",
        "2. En la barra de búsqueda, ingresar `Colaboratory` y seleccionar la app de Google Colaboratory (CO).\n",
        "\n",
        "<img src=\"https://raw.githubusercontent.com/VeronicaNoe/EpiEvo/main/img/0/Colab2.png\" width=\"550\"/>\n",
        "\n",
        "3. Presionar el botón \"Instalar/Install\".\n",
        "\n",
        "<img src=\"https://raw.githubusercontent.com/VeronicaNoe/EpiEvo/main/img/0/Colab3.png\" width=\"550\"/>\n",
        "\n"
      ]
    },
    {
      "cell_type": "markdown",
      "metadata": {
        "id": "sx-5Ho0Eoxyf"
      },
      "source": [
        "<a name=\"cell-C\"></a>\n",
        "## C. Autorizar acceso a Google Drive"
      ]
    },
    {
      "cell_type": "markdown",
      "metadata": {
        "id": "W9-PkvNMxOMK"
      },
      "source": [
        "* Un cuaderno Colab es capaz de conectarse con Google Drive.\n",
        "\n",
        "* Con esta conexión, un cuaderno puede procesar datos almacenados en Drive.\n",
        "\n",
        "* **<font color='red'>IMPORTANTE</font>**: Los restantes TPs utilizan esta conexión para procesar datos públicamente compartidos en Google Drive.\n",
        "\n"
      ]
    },
    {
      "cell_type": "markdown",
      "metadata": {
        "id": "4zeMINGsJllb"
      },
      "source": [
        "Ejecutando la celda de abajo, este cuaderno se conecta con Google Drive."
      ]
    },
    {
      "cell_type": "code",
      "metadata": {
        "id": "ZopBTq1JxG0q",
        "cellView": "form",
        "colab": {
          "base_uri": "https://localhost:8080/"
        },
        "outputId": "e28e762f-7ee2-4db3-bb12-17f13bfa5ce4"
      },
      "source": [
        "#@title Solicitar acceso a Google Drive\n",
        "#@markdown **Nota**: Luego de ejecutar esta celda, seguir las instrucciones listadas abajo. \n",
        "from google.colab import drive\n",
        "drive.mount('/content/drive')"
      ],
      "execution_count": null,
      "outputs": [
        {
          "output_type": "stream",
          "name": "stdout",
          "text": [
            "Mounted at /content/drive\n"
          ]
        }
      ]
    },
    {
      "cell_type": "markdown",
      "metadata": {
        "id": "CPP9BNEANu4C"
      },
      "source": [
        "#### Instrucciones para solicitar accesso a Google Drive"
      ]
    },
    {
      "cell_type": "markdown",
      "metadata": {
        "id": "uSZDht4eJguP"
      },
      "source": [
        "1. Cliquiar el enlace mostrado en `Go to this URL in a browser`.\n",
        "<img src=\"https://raw.githubusercontent.com/VeronicaNoe/EpiEvo/main/img/0/00_paso1a.png\" width=\"550\"/>\n",
        "\n",
        "2. Copiar el código de autenticación.\n",
        "<img src=\"https://raw.githubusercontent.com/VeronicaNoe/EpiEvo/main/img/0/00_paso1b.png\" width=\"550\"/>\n",
        "\n",
        "3. Ingresar dicho código en el campo `Enter authorization code`.\n",
        "<img src=\"https://raw.githubusercontent.com/VeronicaNoe/EpiEvo/main/img/0/00_paso1c.png\" width=\"550\"/>"
      ]
    },
    {
      "cell_type": "markdown",
      "metadata": {
        "id": "FE-MagUHO15u"
      },
      "source": [
        "<table>\n",
        "<tr>\n",
        "<td>\n",
        "<img src=\"https://raw.githubusercontent.com/VeronicaNoe/EpiEvo/main/img/Kahoot_img.png\" width=\"100\"/> \n",
        "</td>\n",
        "<td>\n",
        "TP0_C\n",
        "</td>\n",
        "</tr>\n",
        "</table>"
      ]
    }
  ]
}
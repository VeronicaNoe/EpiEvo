{
  "nbformat": 4,
  "nbformat_minor": 0,
  "metadata": {
    "colab": {
      "name": "TP0_espacio_de_trabajo.ipynb",
      "provenance": [],
      "collapsed_sections": [
        "FTbqkwlHa6TW",
        "LH559JzULEgQ",
        "Kp_TCNwQq0Ym",
        "Yz3Zzt-wdAfq",
        "DDp2qfzqdIOt",
        "sx-5Ho0Eoxyf"
      ],
      "toc_visible": true
    },
    "kernelspec": {
      "name": "python3",
      "display_name": "Python 3"
    },
    "language_info": {
      "name": "python"
    }
  },
  "cells": [
    {
      "cell_type": "markdown",
      "metadata": {
        "id": "eTN5ehOBe7ej"
      },
      "source": [
        "# TP0: Preparar espacio de trabajo\n",
        "\n",
        "Este [cuaderno Jupyter](https://es.wikipedia.org/wiki/Proyecto_Jupyter) prepara el espacio de trabajo para los prácticos del [curso de Epigenética y Evolución de Plantas](https://github.com/VeronicaNoe/EpiEvo). Esto requiere tener una [cuenta de Google](https://accounts.google.com/signin/v2/identifier). \n",
        "\n",
        "Para ejecutar los cuadernos, se utilizará un simple navegador web junto con _Google Colaboratory_ ([Colab](https://colab.research.google.com/notebooks/intro.ipynb?utm_source=scs-index)), una plataforma de computo de acceso gratuito en la nube de Google.\n",
        "\n",
        "\n",
        "\n"
      ]
    },
    {
      "cell_type": "markdown",
      "metadata": {
        "id": "4Yhh91H_Cpfi"
      },
      "source": [
        "## Contenido\n",
        "\n",
        "A. [Preparar espacio de trabajo](#cell-A)\n",
        "\n",
        "1.   [Crear carpeta en Google Drive](#cell-1)\n",
        "2.   [Obtener datos para TPs](#cell-2)\n",
        "3.   [Verificar espacio de trabajo](#cell-3)\n",
        "\n",
        "B. [Instalar aplicación Colab](#cell-B)\n",
        "\n",
        "C.   [Aprender a autorizar acceso a Google Drive](#cell-C)\n"
      ]
    },
    {
      "cell_type": "markdown",
      "metadata": {
        "id": "FTbqkwlHa6TW"
      },
      "source": [
        "<a name=\"cell-A\"></a>\n",
        "## A. Preparar espacio de trabajo"
      ]
    },
    {
      "cell_type": "markdown",
      "metadata": {
        "id": "LH559JzULEgQ"
      },
      "source": [
        "<a name=\"cell-1\"></a>\n",
        "### Paso 1. Crear carpeta en Google Drive <img src=\"http://icons.iconarchive.com/icons/marcus-roberto/google-play/256/Google-Drive-icon.png\" width=\"20\">"
      ]
    },
    {
      "cell_type": "markdown",
      "metadata": {
        "id": "JsCB16ZLHPhk"
      },
      "source": [
        "\n",
        "\n",
        "1. Acceder a [Google Drive](https://drive.google.com).\n",
        "\n",
        "2.   Presionar botón `Nuevo`/`New`.\n",
        "\n",
        "  <table>\n",
        "  <tr>\n",
        "  <th>Es</th>\n",
        "  <th>En</th>\n",
        "  </tr>\n",
        "  <tr>\n",
        "  <td><img src=\"https://raw.githubusercontent.com/VeronicaNoe/EpiEvo/main/img/0/0_crear_dir1_en.png\" width=\"200\"/></td>\n",
        "  <td><img src=\"https://raw.githubusercontent.com/VeronicaNoe/EpiEvo/main/img/0/0_crear_dir1.png\" width=\"200\"/></td>\n",
        "  </tr>\n",
        "</table>\n",
        "    \n",
        "\n",
        "3.   Seleccionar `Carpeta`/`Folder`.\n",
        "  <table>\n",
        "    <tr>\n",
        "  <th>Es</th>\n",
        "  <th>En</th>\n",
        "  </tr>\n",
        "  <tr>\n",
        "  <td><img src=\"https://raw.githubusercontent.com/VeronicaNoe/EpiEvo/main/img/0/0_crear_dir2_en.png\" width=\"200\"/></td>\n",
        "  <td><img src=\"https://raw.githubusercontent.com/VeronicaNoe/EpiEvo/main/img/0/0_crear_dir2.png\" width=\"200\"/></td>\n",
        "  </tr>\n",
        "  </table>\n",
        "\n",
        "4.   Ingresar `EpiEvo` y luego presionar `Crear`/`Create`.\n",
        "\n",
        "**Nota:** Respetar mayúsculas.\n",
        " <table>\n",
        "    <tr>\n",
        "  <th>Es</th>\n",
        "  <th>En</th>\n",
        "  </tr>\n",
        "  <tr>\n",
        "  <td><img src=\"https://raw.githubusercontent.com/VeronicaNoe/EpiEvo/main/img/0/0_crear_dir3_en.png\" width=\"300\"/></td>\n",
        "  <td><img src=\"https://raw.githubusercontent.com/VeronicaNoe/EpiEvo/main/img/0/0_crear_dir3.png\" width=\"300\"/></td>\n",
        "  </tr>\n",
        "  </table>\n"
      ]
    },
    {
      "cell_type": "markdown",
      "metadata": {
        "id": "Kp_TCNwQq0Ym"
      },
      "source": [
        "<a name=\"cell-2\"></a>\n",
        "### Paso 2. Obtener datos para TPs"
      ]
    },
    {
      "cell_type": "markdown",
      "metadata": {
        "id": "nHg51AkcC0Lr"
      },
      "source": [
        "Los datos utilizados en los prácticos se encuentran publicamente compartidos. Siga los siguiente pasos para obtener una copia de los mismos."
      ]
    },
    {
      "cell_type": "markdown",
      "metadata": {
        "id": "wHymR8W8rGiZ"
      },
      "source": [
        "1.   Cliquear este [enlace](https://drive.google.com/drive/folders/1XyU2rEoBay2dIyQg0gB_bD9D5imPLe99?usp=sharing)\n",
        "\n",
        "\n",
        "2. Presionar `epievo_data`\n",
        "\n",
        "<table>\n",
        "<tr>\n",
        "<th>\n",
        "Es\n",
        "</th>\n",
        "<th>\n",
        "En\n",
        "</th>\n",
        "</tr>\n",
        "<tr>\n",
        "<td>\n",
        "<img src=\"https://raw.githubusercontent.com/VeronicaNoe/EpiEvo/main/img/0/0_paso3a_es.png\" width=\"550\"/>\n",
        "</td>\n",
        "<td>\n",
        "<img src=\"https://raw.githubusercontent.com/VeronicaNoe/EpiEvo/main/img/0/0_paso3a.png\" width=\"550\"/>\n",
        "</td>\n",
        "</tr>\n",
        "</table>\n",
        "\n",
        "3.   Presionar `Agregar acceso`/`Add a shortcut`.\n",
        "\n",
        "<table>\n",
        "<tr>\n",
        "<th>\n",
        "Es\n",
        "</th>\n",
        "<th>\n",
        "En\n",
        "</th>\n",
        "</tr>\n",
        "<tr>\n",
        "<td>\n",
        "<img src=\"https://raw.githubusercontent.com/VeronicaNoe/EpiEvo/main/img/0/0_paso3b_es.png\" width=\"550\"/>\n",
        "</td>\n",
        "<td>\n",
        "<img src=\"https://raw.githubusercontent.com/VeronicaNoe/EpiEvo/main/img/0/0_paso3b.png\" width=\"550\"/>\n",
        "</td>\n",
        "</tr>\n",
        "</table>\n",
        "\n",
        "4.   Selecionar `Mi unidad`/`My Drive`.\n",
        "\n",
        "<table>\n",
        "<tr>\n",
        "<th>\n",
        "Es\n",
        "</th>\n",
        "<th>\n",
        "En\n",
        "</th>\n",
        "</tr>\n",
        "<tr>\n",
        "<td>\n",
        "<img src=\"https://raw.githubusercontent.com/VeronicaNoe/EpiEvo/main/img/0/0_paso3c_es.png\" width=\"550\"/>\n",
        "</td>\n",
        "<td>\n",
        "<img src=\"https://raw.githubusercontent.com/VeronicaNoe/EpiEvo/main/img/0/0_paso3c.png\" width=\"550\"/>\n",
        "</td>\n",
        "</tr>\n",
        "</table>\n",
        "\n",
        "5.   Selecionar `EpiEvo`.\n",
        "\n",
        "<table>\n",
        "<tr>\n",
        "<th>\n",
        "Es\n",
        "</th>\n",
        "<th>\n",
        "En\n",
        "</th>\n",
        "</tr>\n",
        "<tr>\n",
        "<td>\n",
        "<img src=\"https://raw.githubusercontent.com/VeronicaNoe/EpiEvo/main/img/0/0_paso3d_es.png\" width=\"550\"/>\n",
        "</td>\n",
        "<td>\n",
        "<img src=\"https://raw.githubusercontent.com/VeronicaNoe/EpiEvo/main/img/0/0_paso3d.png\" width=\"550\"/>\n",
        "</td>\n",
        "</tr>\n",
        "</table>\n",
        "\n",
        "6.   Presionar `AGREGAR ACCESO`/`ADD SHORTCUT`.\n",
        "\n",
        "<table>\n",
        "<tr>\n",
        "<th>\n",
        "Es\n",
        "</th>\n",
        "<th>\n",
        "En\n",
        "</th>\n",
        "</tr>\n",
        "<tr>\n",
        "<td>\n",
        "<img src=\"https://raw.githubusercontent.com/VeronicaNoe/EpiEvo/main/img/0/0_paso3e_es.png\" width=\"550\"/>\n",
        "</td>\n",
        "<td>\n",
        "<img src=\"https://raw.githubusercontent.com/VeronicaNoe/EpiEvo/main/img/0/0_paso3e.png\" width=\"550\"/>\n",
        "</td>\n",
        "</tr>\n",
        "</table>\n"
      ]
    },
    {
      "cell_type": "markdown",
      "metadata": {
        "id": "Yz3Zzt-wdAfq"
      },
      "source": [
        "<a name=\"cell-3\"></a>\n",
        "### Paso 3. Verificar el espacio de trabajo"
      ]
    },
    {
      "cell_type": "markdown",
      "metadata": {
        "id": "T1BM3rWa2_Up"
      },
      "source": [
        "Por favor, verique la presencia de las siguientes carpetas en su Google Drive:\n",
        "\n",
        "1. La carpeta `EpiEvo`. \n",
        "  <p align='center'>\n",
        "  <img src=\"https://raw.githubusercontent.com/VeronicaNoe/EpiEvo/main/img/Colab4.png\" width=\"550\"/>\n",
        "  </p>\n",
        "\n",
        "2. Y dentro de `EpiEvo`, la carpeta `epievo_data`. \n",
        "  <p align='center'>\n",
        "  <img src=\"https://raw.githubusercontent.com/VeronicaNoe/EpiEvo/main/img/Colab5.png\" width=\"550\"/>\n",
        "  </p>\n",
        "\n"
      ]
    },
    {
      "cell_type": "markdown",
      "metadata": {
        "id": "DDp2qfzqdIOt"
      },
      "source": [
        "<a name=\"cell-B\"></a>\n",
        "## B. Instalar aplicación Colab"
      ]
    },
    {
      "cell_type": "markdown",
      "metadata": {
        "id": "zN81XIBduNNP"
      },
      "source": [
        "Para instalar Google Colaboratory en Google Drive, realizar los siguientes pasos:\n",
        "\n",
        "1. Ir al menu de Drive y seleccionar `NUEVO` > `MÁS` > `+ Conectar más aplicaciones` (ó `NEW` > `MORE` > `+ Connect more apps`).\n",
        "\n",
        "<img src=\"https://raw.githubusercontent.com/VeronicaNoe/EpiEvo/main/img/Colab1.png\" width=\"400\"/>\n",
        "\n",
        "2. En la barra de búsqueda, ingresar `Colaboratory` y seleccionar la app de Google Colaboratory (CO).\n",
        "\n",
        "<img src=\"https://raw.githubusercontent.com/VeronicaNoe/EpiEvo/main/img/Colab2.png\" width=\"550\"/>\n",
        "\n",
        "3. Presionar el botón \"Instalar/Install\".\n",
        "\n",
        "<img src=\"https://raw.githubusercontent.com/VeronicaNoe/EpiEvo/main/img/Colab3.png\" width=\"550\"/>\n",
        "\n"
      ]
    },
    {
      "cell_type": "markdown",
      "metadata": {
        "id": "sx-5Ho0Eoxyf"
      },
      "source": [
        "<a name=\"cell-C\"></a>\n",
        "## C. Aprender a autorizar acceso a Google Drive"
      ]
    },
    {
      "cell_type": "markdown",
      "metadata": {
        "id": "W9-PkvNMxOMK"
      },
      "source": [
        "Un opción útil para el resto de los TPs es la posibilidad de contectar un cuaderno con Google Drive.\n",
        "\n",
        "Los siguientes pasos muestran como realizar dicha conexión:\n",
        "\n",
        "1. Presionar el botón play, cliquea el enlace mostrado en `Go to this URL in a browser`.\n",
        "<img src=\"https://raw.githubusercontent.com/VeronicaNoe/EpiEvo/main/img/00_paso1a.png\" width=\"550\"/>\n",
        "\n",
        "2. Copie el código de autenticación.\n",
        "<img src=\"https://raw.githubusercontent.com/VeronicaNoe/EpiEvo/main/img/00_paso1b.png\" width=\"550\"/>\n",
        "\n",
        "3. Ingresar dicho código en el campo `Enter authorization code`.\n",
        "<img src=\"https://raw.githubusercontent.com/VeronicaNoe/EpiEvo/main/img/00_paso1c.png\" width=\"550\"/>"
      ]
    },
    {
      "cell_type": "code",
      "metadata": {
        "cellView": "form",
        "id": "ZopBTq1JxG0q"
      },
      "source": [
        "#@title Solicitar acceso a Google Drive\n",
        "from google.colab import drive\n",
        "drive.mount('/content/drive')"
      ],
      "execution_count": null,
      "outputs": []
    }
  ]
}
{
  "nbformat": 4,
  "nbformat_minor": 0,
  "metadata": {
    "colab": {
      "name": "TP_02.ipynb",
      "provenance": [],
      "collapsed_sections": [
        "eTN5ehOBe7ej",
        "m3PNt0xg1Plw"
      ]
    },
    "kernelspec": {
      "name": "ir",
      "display_name": "R"
    },
    "language_info": {
      "name": "R"
    }
  },
  "cells": [
    {
      "cell_type": "markdown",
      "metadata": {
        "id": "eTN5ehOBe7ej"
      },
      "source": [
        "# Preparar el espacio de trabajo en Colab"
      ]
    },
    {
      "cell_type": "markdown",
      "metadata": {
        "id": "4hRpwo3oTFUU"
      },
      "source": [
        "Para trabajar de forma ordenada, se crearán 3 carpetas en colab:\n",
        "- *rawData*: en donde estarán los archivos necesarios para trabajar (**input**)\n",
        "- *results*: en donde se guardarán los archivos generados (**output**)\n",
        "- *plots*: en donde se guardarán los pdf de las figuras (**output**)"
      ]
    },
    {
      "cell_type": "code",
      "metadata": {
        "id": "I53XsY9YVZLG",
        "colab": {
          "base_uri": "https://localhost:8080/",
          "height": 34
        },
        "outputId": "07eefaa2-1407-41e7-a965-562640b931b8"
      },
      "source": [
        "#@title Crear directorios\n",
        "system(\"mkdir /content/rawData\", TRUE)\n",
        "system(\"mkdir /content/plots\", TRUE)\n",
        "system(\"mkdir /content/results\", TRUE)\n",
        "system(\"rm -r /content/sample_data\", TRUE) # eliminarmos la carpeta que está por default en colab\n",
        "system(\"ls\", TRUE) # listamos los elementos del directorio"
      ],
      "execution_count": null,
      "outputs": [
        {
          "output_type": "display_data",
          "data": {
            "text/plain": [
              "character(0)"
            ],
            "text/latex": "",
            "text/markdown": "",
            "text/html": [
              ""
            ]
          },
          "metadata": {}
        },
        {
          "output_type": "display_data",
          "data": {
            "text/plain": [
              "character(0)"
            ],
            "text/latex": "",
            "text/markdown": "",
            "text/html": [
              ""
            ]
          },
          "metadata": {}
        },
        {
          "output_type": "display_data",
          "data": {
            "text/plain": [
              "character(0)"
            ],
            "text/latex": "",
            "text/markdown": "",
            "text/html": [
              ""
            ]
          },
          "metadata": {}
        },
        {
          "output_type": "display_data",
          "data": {
            "text/plain": [
              "character(0)"
            ],
            "text/latex": "",
            "text/markdown": "",
            "text/html": [
              ""
            ]
          },
          "metadata": {}
        },
        {
          "output_type": "display_data",
          "data": {
            "text/plain": [
              "[1] \"plots\"   \"rawData\" \"results\""
            ],
            "text/latex": "\\begin{enumerate*}\n\\item 'plots'\n\\item 'rawData'\n\\item 'results'\n\\end{enumerate*}\n",
            "text/markdown": "1. 'plots'\n2. 'rawData'\n3. 'results'\n\n\n",
            "text/html": [
              "<style>\n",
              ".list-inline {list-style: none; margin:0; padding: 0}\n",
              ".list-inline>li {display: inline-block}\n",
              ".list-inline>li:not(:last-child)::after {content: \"\\00b7\"; padding: 0 .5ex}\n",
              "</style>\n",
              "<ol class=list-inline><li>'plots'</li><li>'rawData'</li><li>'results'</li></ol>\n"
            ]
          },
          "metadata": {}
        }
      ]
    },
    {
      "cell_type": "markdown",
      "metadata": {
        "id": "dCrN3qGDf7C3"
      },
      "source": [
        "En el directorio *rawData* cargaremos los inputs\n",
        "\n"
      ]
    },
    {
      "cell_type": "code",
      "metadata": {
        "id": "uuicDbmsc5V2",
        "colab": {
          "base_uri": "https://localhost:8080/",
          "height": 53
        },
        "outputId": "45a91a51-d04d-4b94-c492-f196befd0ea8"
      },
      "source": [
        "#@ title Cargar archivos\n",
        "setwd(\"/content/rawData\") # establecemos el directorio de trabajo\n",
        "system(\"gdown --id 1czZdAibw2GJkvAjg7rzb0B-XakvooqCz\") # archivo del diseño experimental\n",
        "system(\"gdown --id 1krHb_grVlKn209RybKVwTZcpLIJiUwxn\") # archivo con las anotaciones\n",
        "system(\"gdown --id 1rozO_ViJd7eriWFojePzJVPB_t_76ceE\") # archivo con funciones de R (commonFunctions)\n",
        "system(\"gdown --id 108Fjt5z61z6aFd-Db85n3rP_pqa3XA3z\") # archivo de metilación\n",
        "unzip(\"/content/rawData/methylation.bed.zip\") # descomprimimos el archivo de metilación\n",
        "#system(\"rm -r /content/rawData/__MACOSX\", TRUE)\n",
        "cat(\"Lista de archivos disponibles en */rawData* \\n\")\n",
        "system(\"ls\", TRUE) # listamos los elementos del directorio"
      ],
      "execution_count": null,
      "outputs": [
        {
          "output_type": "stream",
          "name": "stdout",
          "text": [
            "Lista de archivos disponibles en */rawData* \n"
          ]
        },
        {
          "output_type": "display_data",
          "data": {
            "text/plain": [
              "[1] \"commonFunctions.R\"   \"Design.txt\"          \"mergedAnnot.csv\"    \n",
              "[4] \"methylation.bed\"     \"methylation.bed.zip\""
            ],
            "text/latex": "\\begin{enumerate*}\n\\item 'commonFunctions.R'\n\\item 'Design.txt'\n\\item 'mergedAnnot.csv'\n\\item 'methylation.bed'\n\\item 'methylation.bed.zip'\n\\end{enumerate*}\n",
            "text/markdown": "1. 'commonFunctions.R'\n2. 'Design.txt'\n3. 'mergedAnnot.csv'\n4. 'methylation.bed'\n5. 'methylation.bed.zip'\n\n\n",
            "text/html": [
              "<style>\n",
              ".list-inline {list-style: none; margin:0; padding: 0}\n",
              ".list-inline>li {display: inline-block}\n",
              ".list-inline>li:not(:last-child)::after {content: \"\\00b7\"; padding: 0 .5ex}\n",
              "</style>\n",
              "<ol class=list-inline><li>'commonFunctions.R'</li><li>'Design.txt'</li><li>'mergedAnnot.csv'</li><li>'methylation.bed'</li><li>'methylation.bed.zip'</li></ol>\n"
            ]
          },
          "metadata": {}
        }
      ]
    },
    {
      "cell_type": "markdown",
      "metadata": {
        "id": "s_FD9K6YotdN"
      },
      "source": [
        "# Preparar el espacio de trabajo en R\n",
        "\n",
        "\n"
      ]
    },
    {
      "cell_type": "code",
      "metadata": {
        "id": "B9_5V2Y1n1BQ",
        "cellView": "form"
      },
      "source": [
        "#@title Instalar y cargar librerías. Definir directorio de trabajo\n",
        "install.packages(c(\"data.table\",\"reshape2\",\"ggplot2\",\"vioplot\",\n",
        "\"qqman\", \"vegan\"))\n",
        "if (!requireNamespace(\"BiocManager\", quietly = TRUE))\n",
        "    install.packages(\"BiocManager\")\n",
        "BiocManager::install(\"DSS\")  \n",
        "# Cargar librerías\n",
        "suppressPackageStartupMessages({\n",
        "  library(\"data.table\")\n",
        "  library(\"reshape2\")\n",
        "  library(\"ggplot2\")\n",
        "  library(\"vioplot\")\n",
        "  library(\"DSS\")\n",
        "  library(\"qqman\")\n",
        "  library(\"vegan\")\n",
        "  source(file.path(\"/content/rawData\", \"commonFunctions.R\"))\n",
        "})\n",
        "# Establecer el directorio de trabajo\n",
        "setwd(\"/content/results\")\n",
        "getwd()"
      ],
      "execution_count": null,
      "outputs": []
    },
    {
      "cell_type": "markdown",
      "metadata": {
        "id": "J5xI99eby0wx"
      },
      "source": [
        "# Análisis de datos obtenidos por *epiGBS*"
      ]
    },
    {
      "cell_type": "markdown",
      "metadata": {
        "id": "0AWQQCHVoygY"
      },
      "source": [
        "## Explorar los datos"
      ]
    },
    {
      "cell_type": "code",
      "metadata": {
        "id": "5CqDiF56jwBj"
      },
      "source": [
        "#@title\n",
        "myData <- f.load.methylation.bed(\"/content/rawData/methylation.bed\")"
      ],
      "execution_count": null,
      "outputs": []
    },
    {
      "cell_type": "markdown",
      "metadata": {
        "id": "NM_lOmvVorEv"
      },
      "source": [
        "La tabla de datos (**myData**) contiene 4 columnas con información de las citosinas metiladas:\n",
        "- **chr**: fragmento o cromosoma (del inglés: chromosome) consenso de las muestras\n",
        "- **pos**: posición dentro del fragmento 5'->3'\n",
        "- **context**: nucleótidos alrededor de la citosina metilada (CG,CHH,CHG)\n",
        "- **samples_called**: número que indica en cuantas muestras se secuenció al menos una vez (1x) cada citosina.\n",
        "\n",
        "A partir de la 5º columna, se encuentra la información de metilación para cada muestra por duplicado:\n",
        "  - Shade_40_*methylated*: la terminación **methylated** indica el número de citosinas metiladas\n",
        "  - Shade_40_*total*: la terminacióón **total** indica el número total de citosinas (suma C metiladas y C no metiladas)"
      ]
    },
    {
      "cell_type": "code",
      "metadata": {
        "id": "wv57_1ManBk4"
      },
      "source": [
        "#@title Datos crudos.\n",
        "cat(\"Número de columnas =\", dim(myData)[2], \"\\n\")\n",
        "cat(\"Número de muestras =\", length(grep(\"_total$\",colnames(myData), value = FALSE)), \"\\n\")\n",
        "cat(\"Número de filas =\", dim(myData)[1],\"\\n\")\n",
        "cat(\"\\n\",\"\\t\\t\\t\\t Vista previa de la tabla:\", \"\\n\")\n",
        "myData[1:5,1:20]"
      ],
      "execution_count": null,
      "outputs": []
    },
    {
      "cell_type": "markdown",
      "metadata": {
        "id": "qTLTyp8Wq-Rl"
      },
      "source": [
        "## Control de calidad\n",
        "\n"
      ]
    },
    {
      "cell_type": "markdown",
      "metadata": {
        "id": "NsH-8HPkZssi"
      },
      "source": [
        "Se filtraran citosinas con baja cobertura y aquellas con alta cobertura. Es decir, citosinas que fueron secuenciadas pocas o muchas veces.\n",
        "\n"
      ]
    },
    {
      "cell_type": "markdown",
      "metadata": {
        "id": "nxhufODw89EO"
      },
      "source": [
        "**Baja cobertura**: El mínimo es 10 (*10X*), se puede modificar y ser menos estrictos pero esto compromete la confianza en los datos."
      ]
    },
    {
      "cell_type": "markdown",
      "metadata": {
        "id": "fHxY4_5oAPhi"
      },
      "source": [
        "**Alta cobertura**: Los valores de cobertura muy altos también son problemáticos ya que se puede detectar citosinas/posiciones diferencialmente metiladas (DMC/DMC) a aquellas C's en que la diferencia se deba a cobertura.\n",
        "\n",
        "El umbral depende de los investigadores.\n",
        "Usaremos el valor del cuartil 99,9"
      ]
    },
    {
      "cell_type": "code",
      "metadata": {
        "id": "7sIe14xpoTop"
      },
      "source": [
        "#@ title\n",
        "#seleccionamos las columnas con la cobertura total\n",
        "totalCols <- grep(\"_total$\", colnames(myData), value = TRUE)\n",
        "methCov <- myData[,totalCols]\n",
        "colnames(methCov) <- gsub(\"_total$\", \"\", colnames(methCov))\n",
        "#generamos los bins para observar la distribución de la cobertura de los datos\n",
        "bins<-c(0.1,0.2,0.3,0.4,0.5,0.6,0.7,0.8,0.9,0.999,1)\n",
        "# generamos la distribución de la cobertura\n",
        "quaCov<-quantile(methCov,bins, na.rm = TRUE) \n",
        "# set min y max\n",
        "minCov<-10 # min 10X\n",
        "maxCov<-quaCov[10] #99.9%\n",
        "cat(\"Valor mínimo de cobertura = \", minCov, \"\\n\")\n",
        "cat(\"Valor máximo de cobertura = \", maxCov, \"\\n\")\n",
        "cat(\"\\n \\tRango de valores y distribución de la cobertura: \\n\")\n",
        "print(quaCov)"
      ],
      "execution_count": null,
      "outputs": []
    },
    {
      "cell_type": "markdown",
      "metadata": {
        "id": "9WYfQ0liGt-u"
      },
      "source": [
        "**Filtrado**: \n",
        " - Convertimos en NA todas las celdas que no cumplian con los criterios (baja | alta cobertura), \n",
        " - Seleccionamos aquellas citosinas secuenciadas más de 10 veces y menos del max que están *presentes en el **80%** de las muestras*.\n",
        "\n"
      ]
    },
    {
      "cell_type": "markdown",
      "metadata": {
        "id": "EyAGJPUbIqnu"
      },
      "source": [
        "Compare esta tabla con la primera.\n"
      ]
    },
    {
      "cell_type": "code",
      "metadata": {
        "id": "UeobNN6wneqO"
      },
      "source": [
        "#@ title Datos filtrados.\n",
        "methCov[(methCov < minCov)|(methCov > maxCov)] <- NA\n",
        "filteredMeth<-f.filter.methylation(myData, methCov) #demora un poquito\n",
        "write.table(filteredMeth, file = \"/content/results/filteredMethylation\", sep = '\\t', col.names = TRUE, row.names = FALSE, quote = FALSE)\n",
        "cat(\"Número de columnas=\", dim(filteredMeth)[2], \"\\n\")\n",
        "cat(\"Número de muestras=\", length(grep(\"_total$\",colnames(filteredMeth), value = FALSE)), \"\\n\")\n",
        "cat(\"Número de filas=\", dim(filteredMeth)[1],\"\\n\")\n",
        "cat(\"\\n\",\"\\t\\t\\t\\t Vista previa de la tabla:\", \"\\n\")\n",
        "filteredMeth[1:5,1:20]"
      ],
      "execution_count": null,
      "outputs": []
    },
    {
      "cell_type": "markdown",
      "metadata": {
        "id": "gdaX9yUER2xh"
      },
      "source": [
        "## Caracterización de la metilación global"
      ]
    },
    {
      "cell_type": "markdown",
      "metadata": {
        "id": "89ewxsgWSBww"
      },
      "source": [
        "Se generarán 3 gráficos para caracterizar la metilación global:\n",
        "- Histograma: distribución de C's según el % metilación en cada contexto\n",
        "- Violines: distribución de C's según el % metilación en cada contexto\n",
        "- Heatmaps: % de metilación para genes, elementos transponibles, repeticiones y regiones no clasificadas."
      ]
    },
    {
      "cell_type": "markdown",
      "metadata": {
        "id": "Mei5rpCGV1qB"
      },
      "source": [
        "Se utilizará \n",
        "- la matriz de datos filtrados: **filteredMethylation**\n",
        "- el archivo con las anotaciones para cada cromosoma/fragmento (chr): **mergedAnnot.csv**\n",
        "- el archivo con el diseño experimental: **Design.txt**"
      ]
    },
    {
      "cell_type": "code",
      "metadata": {
        "id": "RaITapfuSGYE"
      },
      "source": [
        "#@ title Metilación porcentual media para el tratamiento: *Control* y *Shade*.\n",
        "\n",
        "infileName <- c(\"/content/results/filteredMethylation\")\n",
        "mePerc <- f.load.methylation.bed(infileName, percentages = TRUE) # see commonFunctions.R\n",
        "aveData<-f.average.by.group(infileName)\n",
        "cat(\"Porcentaje de metilación \\n\")\n",
        "aveData[1:5,]"
      ],
      "execution_count": null,
      "outputs": []
    },
    {
      "cell_type": "code",
      "metadata": {
        "id": "sHmOUgbcUf5n"
      },
      "source": [
        "#@title Histogramas por contexto\n",
        "f.plot.histogram(mePerc)\n",
        "#save\n",
        "pdf(file.path(\"/content/plots/histograma.pdf\"))\n",
        "f.plot.histogram(mePerc)\n",
        "invisible(dev.off())"
      ],
      "execution_count": null,
      "outputs": []
    },
    {
      "cell_type": "code",
      "metadata": {
        "id": "V0vAh9hbUghb",
        "cellView": "form"
      },
      "source": [
        "#@title Violin plots\n",
        "aveData<-f.average.by.group(infileName)\n",
        "mePerc <- f.load.methylation.bed(infileName, percentages = TRUE) # see commonFunctions.R\n",
        "allMeans<-f.plot.violin(aveData, mePerc)\n",
        "cat(\"Metilación porcentual \\n\")\n",
        "f.plot.violin(aveData, mePerc)\n",
        "write.csv(round(allMeans, 3), file.path(\"/content/results/methylationLevelsViolinPlot_means.csv\"))  \n",
        "pdf(\"/content/plots/methylationLevelsViolinPlot.pdf\")\n",
        "par(oma = c(12, 8, 3, 0), mar = c(0, 0, 0, 0))\n",
        "f.plot.violin(aveData, mePerc)\n",
        "invisible(dev.off())"
      ],
      "execution_count": null,
      "outputs": []
    },
    {
      "cell_type": "code",
      "metadata": {
        "id": "u_AT8NaWoGly",
        "cellView": "form"
      },
      "source": [
        "#@title Heatmap\n",
        "methPerFeature<-f.plot.heatmap(aveData, mePerc)\n",
        "cat(\"Metilación porcentual\\n\")\n",
        "pdf(\"methylationLevelsPerFeature.pdf\")\n",
        "f.plot.heatmap(aveData, mePerc)\n",
        "invisible(dev.off())\n",
        "write.csv(methPerFeature, file=\"/content/results/methylationLevelsPerFeature.csv\")"
      ],
      "execution_count": null,
      "outputs": []
    },
    {
      "cell_type": "markdown",
      "metadata": {
        "id": "Zv0Zl7qjB_TJ"
      },
      "source": [
        "## Efecto del tratamiento de luz en la metilación de C's \n",
        "\n",
        "Se realizará \n",
        "- un análisis exploratorio mediante un análisis de componentes principales para cada contexto. A partir de la matriz de distancia generada, se realizará un análisis permutacional de la varianza.\n",
        "- un análisis estadístico mediante DSS para determinar C's diferencialmente metiladas."
      ]
    },
    {
      "cell_type": "code",
      "metadata": {
        "id": "X46Y6UPNu0d6",
        "cellView": "form"
      },
      "source": [
        "#@title MDS\n",
        "adonisResult<-f.plot.isoMDS(filteredMeth)\n",
        "write.csv(adonisResult, file = paste0(\"/content/results/adonis.csv\"), row.names = TRUE)\n",
        "#pdf(paste0(\"/content/plots/isoMDS.pdf\"), height = 4, width = 10)\n",
        "#f.plot.isoMDS(filteredMeth)\n",
        "#invisible(dev.off())"
      ],
      "execution_count": null,
      "outputs": []
    },
    {
      "cell_type": "code",
      "metadata": {
        "id": "sY_GWv_q2hY9",
        "cellView": "form"
      },
      "source": [
        "#@title  Determinación de citosinas diferencialmente metiladas (DMC)\n",
        "forDSS<-f.format4DSS(filteredMeth)\n",
        "myBS <- suppressWarnings(makeBSseqData(forDSS, names(forDSS)))\n",
        "sampleTab <- f.read.sampleTable(\"Treat\") \n",
        "allSamples <- gsub(\"_total$\", \"\", grep(\"_total$\", colnames(filteredMeth), value = TRUE))\n",
        "sampleTab <- sampleTab[allSamples,]\n",
        "myFit <- DMLfit.multiFactor(myBS, sampleTab, formula=~Treat)\n",
        "DMCresult <- DMLtest.multiFactor(myFit, term=\"Treat\")\n",
        "cat(\"\\n Vista previa del resultado\")\n",
        "DMCresult[1:10,]\n",
        "write.csv(DMCresult, \"/content/results/DMC_analysis.csv\",row.names = FALSE)\n",
        "\n",
        "#@title Aca se puede cortar\n",
        "DMCresult<-read.csv(\"/content/results/DMC_analysis.csv\")\n",
        "col2merge<-c('chr','pos')\n",
        "\n",
        "DMCresult$chrPos <- apply( DMCresult[ , col2merge] , 1 , paste , collapse = \"-\" )\n",
        "DMCresult<-DMCresult[order(DMCresult$chrPos),]\n",
        "filteredMeth$chrPos <- apply( filteredMeth[ ,col2merge] , 1 , paste , collapse = \"-\" )\n",
        "filteredMeth<-filteredMeth[order(filteredMeth$chrPos),]\n",
        "DMCafterFDR<-subset(DMCresult, DMCresult$fdrs <= 0.05)\n",
        "uniReg<-unique(DMCafterFDR$chr)\n",
        "chrDMCafterFDR<-matrix(NA, nrow=length(uniReg), ncol = 2)  \n",
        "for(j in 1:length(uniReg)){\n",
        "  hits<-sum(DMCafterFDR$chr==uniReg[j])\n",
        "  colnames(chrDMCafterFDR) <- c(\"chr\",\"ocurrences\")\n",
        "  chrDMCafterFDR[j,1]<-uniReg[j]\n",
        "  chrDMCafterFDR[j,2]<-hits\n",
        "}\n",
        "chrDMCafterFDR<-data.frame(chrDMCafterFDR)\n",
        "chrDMCafterFDR <- chrDMCafterFDR[order(-chrDMCafterFDR$ocurrences),]\n",
        "write.table(DMCafterFDR,\"/content/results/DMC_afterFDR.csv\",row.names = FALSE, sep=\"\\t\", col.names=T, quote=FALSE)\n"
      ],
      "execution_count": null,
      "outputs": []
    },
    {
      "cell_type": "code",
      "metadata": {
        "id": "PMja-q0xYXof",
        "cellView": "form"
      },
      "source": [
        "#@title Manhattan plot\n",
        "f.plot.manhattan(DMCresult,chrDMCafterFDR)\n",
        "pdf(paste0(\"/content/plots/manhattanPlot.pdf\"))\n",
        "f.plot.manhattan(DMCresult,chrDMCafterFDR)\n",
        "dev.off()"
      ],
      "execution_count": null,
      "outputs": []
    },
    {
      "cell_type": "markdown",
      "metadata": {
        "id": "m3PNt0xg1Plw"
      },
      "source": [
        "# Guardar en Drive"
      ]
    },
    {
      "cell_type": "markdown",
      "metadata": {
        "id": "2QuhwOtOGE3A"
      },
      "source": [
        "Se necesita establecer conexión con Drive para obtener el material de trabajo.\n",
        "Para ello, se utilizará el paquete *googledrive*. "
      ]
    },
    {
      "cell_type": "code",
      "metadata": {
        "id": "Jow0rgYrLIQ8",
        "cellView": "form"
      },
      "source": [
        "#@title Instalar, cargar y configurar el paquete\n",
        "install.packages(c(\"googledrive\",\"R.utils\",\"httr\"))\n",
        "\n",
        "#@title Carga los paquetes\n",
        "suppressPackageStartupMessages({\n",
        "  library(\"googledrive\")\n",
        "  library(\"R.utils\")\n",
        "  library(\"httr\")\n",
        "})\n",
        "\n",
        "#@title Autentificar usuario\n",
        "my_check <- function() {return(TRUE)}\n",
        "reassignInPackage(\"is_interactive\", pkgName = \"httr\", my_check) \n",
        "options(rlang_interactive=TRUE)"
      ],
      "execution_count": null,
      "outputs": []
    },
    {
      "cell_type": "markdown",
      "metadata": {
        "id": "sfcDD9gXGKmM"
      },
      "source": [
        "En el siguiente paso, se debe verificar el usuario.\n",
        "\n",
        "El siguiente código, va a generar dos cosas:\n",
        "- 1º: Un link para darle acceso al paquete a nuestra cuenta de Drive. Una vez completado los permisos, va a generar un link que hay que **copiar**\n",
        "- 2º: Un cuadro de texto con el código de autorización: **pegar** el link del primer paso."
      ]
    },
    {
      "cell_type": "code",
      "metadata": {
        "cellView": "form",
        "id": "L2PprN0jGP1B"
      },
      "source": [
        "#@title Otorgar permisos\n",
        "drive_auth(use_oob = TRUE, cache = TRUE)"
      ],
      "execution_count": null,
      "outputs": []
    },
    {
      "cell_type": "markdown",
      "metadata": {
        "id": "Xde-bED5GR-z"
      },
      "source": [
        "Una vez que estamos autorizados a editar Drive, vamos a guardar todos los arhivos que están en colab."
      ]
    },
    {
      "cell_type": "code",
      "metadata": {
        "id": "UnAt3iqyoWJ6",
        "cellView": "form"
      },
      "source": [
        "#@title Guardar archivos en el Drive personal\n",
        "folder2save<-dir('/content', full.names = TRUE)\n",
        "file2save<-c()\n",
        "for (f in folder2save){\n",
        "  file2save<-dir(f, full.names=TRUE)\n",
        "  for(i in file2save){\n",
        "    data1 <- drive_upload(i,\"~/EpiEvo/02_TP/\", overwrite = TRUE) #descarga a cada carpeta personal\n",
        "  }\n",
        "}\n"
      ],
      "execution_count": null,
      "outputs": []
    }
  ]
}